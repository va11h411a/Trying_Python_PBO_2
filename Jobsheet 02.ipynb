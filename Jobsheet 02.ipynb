{
  "nbformat": 4,
  "nbformat_minor": 0,
  "metadata": {
    "colab": {
      "provenance": [],
      "authorship_tag": "ABX9TyNzJe0mQgzicvOeciQAke9o",
      "include_colab_link": true
    },
    "kernelspec": {
      "name": "python3",
      "display_name": "Python 3"
    },
    "language_info": {
      "name": "python"
    }
  },
  "cells": [
    {
      "cell_type": "markdown",
      "metadata": {
        "id": "view-in-github",
        "colab_type": "text"
      },
      "source": [
        "<a href=\"https://colab.research.google.com/github/va11h411a/Trying_Python_PBO_2/blob/main/Jobsheet%2002.ipynb\" target=\"_parent\"><img src=\"https://colab.research.google.com/assets/colab-badge.svg\" alt=\"Open In Colab\"/></a>"
      ]
    },
    {
      "cell_type": "code",
      "execution_count": 5,
      "metadata": {
        "id": "xmqRQsaSPJN6",
        "colab": {
          "base_uri": "https://localhost:8080/"
        },
        "outputId": "17fb5be0-27c8-435d-8cb1-2b95cb549bf7"
      },
      "outputs": [
        {
          "output_type": "stream",
          "name": "stdout",
          "text": [
            "Ini adalah contoh fungsi built-in\n",
            "Panjang kata 'Pemrograman' adalah: 11\n",
            "Nilai maksimum dalam daftar [10, 5, 30, 40, 25] adalah: 40\n",
            "Kuadrat dari 5 adalah: 25\n",
            "Luas persegi panjang: 50\n",
            "Nama: Budi, Umur: 22, IPK: 3.8\n",
            "Halo, Andi! Selamat datang di dunia Python.\n",
            "Keliling persegi dengan sisi 5 adalah: 20\n"
          ]
        }
      ],
      "source": [
        "# Fungsi Built-in\n",
        "# Fungsi print() adalah contoh fungsi built-in untuk mencetak output\n",
        "print(\"Ini adalah contoh fungsi built-in\")\n",
        "\n",
        "# Fungsi len() adalah contoh fungsi built-in untuk menghitung panjang suatu objek\n",
        "kata = \"Pemrograman\"\n",
        "panjang_kata = len(kata)\n",
        "print(f\"Panjang kata '{kata}' adalah: {panjang_kata}\")\n",
        "\n",
        "# Fungsi max() adalah contoh fungsi built-in untuk mencari nilai maksimum dari sebuah daftar\n",
        "angka = [10, 5, 30, 40, 25]\n",
        "nilai_max = max(angka)\n",
        "print(f\"Nilai maksimum dalam daftar {angka} adalah: {nilai_max}\")\n",
        "\n",
        "# Fungsi User-Defined\n",
        "# Fungsi dengan satu parameter (Menerima satu nilai input)\n",
        "def cetak_kuadrat(angka):\n",
        "# Menghitung kuadrat dari angka yang diterima sebagai parameter\n",
        "  print(f\"Kuadrat dari {angka} adalah: {angka ** 2}\")\n",
        " # Fungsi dengan beberapa parameter (Menerima lebih dari satu nilai input)\n",
        "def hitung_luas_persegi_panjang(panjang, lebar):\n",
        "# Menghitung luas persegi panjang\n",
        "  return panjang * lebar\n",
        "\n",
        "# Fungsi dengan beberapa tipe parameter (Menerima berbagai jenis data)\n",
        "def info_mahasiswa(nama, umur, ipk):\n",
        "# Mencetak informasi mahasiswa\n",
        "  print(f\"Nama: {nama}, Umur: {umur}, IPK: {ipk}\")\n",
        "\n",
        "# Fungsi tanpa return value (Non-return value)\n",
        "def sapa_pengguna(nama):\n",
        "# Fungsi ini hanya mencetak sapaan tanpa mengembalikan nilai\n",
        "  print(f\"Halo, {nama}! Selamat datang di dunia Python.\")\n",
        "\n",
        "# Fungsi dengan return value\n",
        "def hitung_keliling_persegi(sisi):\n",
        "# Mengembalikan keliling persegi\n",
        "  return 4 * sisi\n",
        "\n",
        "# Pemanggilan fungsi dengan satu parameter\n",
        "cetak_kuadrat(5)\n",
        "\n",
        "# Pemanggilan fungsi dengan beberapa parameter\n",
        "luas = hitung_luas_persegi_panjang(10, 5)\n",
        "print(f\"Luas persegi panjang: {luas}\")\n",
        "\n",
        "# Pemanggilan fungsi dengan beberapa tipe parameter\n",
        "info_mahasiswa(\"Budi\", 22, 3.8)\n",
        "\n",
        "# Pemanggilan fungsi tanpa return value\n",
        "sapa_pengguna(\"Andi\")\n",
        "# Pemanggilan fungsi dengan return value\n",
        "\n",
        "keliling = hitung_keliling_persegi(5)\n",
        "print(f\"Keliling persegi dengan sisi 5 adalah: {keliling}\")\n"
      ]
    },
    {
      "cell_type": "code",
      "source": [
        "import geometri\n",
        "\n",
        "def main ():\n",
        "  luas_persegi = geometri.hitung_luas_persegi(5)\n",
        "  print(f\"Luas persegi dengan sisi 5 adalah: {luas_persegi}\")\n",
        "\n",
        "  luas_persegi_panjang = geometri.hitung_luas_persegi_panjang(10, 5)\n",
        "  print(f\"Luas persegi panjang dengan panjang 10 dan lebar 5 adalah:{luas_persegi_panjang}\")\n",
        "\n",
        "  luas_lingkaran = geometri.hitung_luas_lingkaran(7)\n",
        "  print(f\"Luas lingkaran dengan jari-jari 7 adalah: {luas_lingkaran}\")\n",
        "\n",
        "if __name__ == \"__main__\":\n",
        "  main()"
      ],
      "metadata": {
        "colab": {
          "base_uri": "https://localhost:8080/"
        },
        "id": "MHjfskn21MlM",
        "outputId": "c05462ad-d12b-4611-e8e8-bd2db9271738"
      },
      "execution_count": 16,
      "outputs": [
        {
          "output_type": "stream",
          "name": "stdout",
          "text": [
            "Luas persegi dengan sisi 5 adalah: 25\n",
            "Luas persegi panjang dengan panjang 10 dan lebar 5 adalah:50\n",
            "Luas lingkaran dengan jari-jari 7 adalah: 153.86\n"
          ]
        }
      ]
    },
    {
      "cell_type": "code",
      "source": [
        "# Kelas Buku untuk merepresentasikan buku di perpustakaan\n",
        "class Buku:\n",
        "  def __init__(self, judul, pengarang, tahun_terbit):\n",
        "    self.judul = judul\n",
        "    self.pengarang = pengarang\n",
        "    self.tahun_terbit = tahun_terbit\n",
        "    self.status = \"Tersedia\" # Status buku, default adalah Tersedia\n",
        "def tampilkan_info(self):\n",
        "  print(f\"Judul: {self.judul}\")\n",
        "  print(f\"Pengarang: {self.pengarang}\")\n",
        "  print(f\"Tahun Terbit: {self.tahun_terbit}\")\n",
        "  print(f\"Status: {self.status}\")\n",
        "def pinjam(self):\n",
        "  if self.status == \"Tersedia\":\n",
        "    self.status = \"Dipinjam\"\n",
        "    print(f\"Buku '{self.judul}' telah dipinjam.\")\n",
        "  else:\n",
        "    print(f\"Buku '{self.judul}' sedang dipinjam.\")\n",
        "def kembalikan(self):\n",
        "  if self.status == \"Dipinjam\":\n",
        "    self.status = \"Tersedia\"\n",
        "    print(f\"Buku '{self.judul}' telah dikembalikan.\")\n",
        "  else:\n",
        "    print(f\"Buku '{self.judul}' tidak sedang dipinjam.\")\n",
        "\n",
        "# Membuat objek dari kelas Buku\n",
        "buku1 = Buku(\"Pemrograman Python\", \"John Doe\", 2021)\n",
        "buku2 = Buku(\"Data Science untuk Pemula\", \"Jane Smith\", 2020)\n",
        "# Menggunakan metode objek Buku\n",
        "buku1.tampilkan_info()\n",
        "buku2.pinjam()\n",
        "# Mengubah status buku dan menampilkan informasi\n",
        "buku2.kembalikan()\n",
        "buku1.pinjam()\n",
        "buku1.tampilkan_info()\n",
        "# Kelas Mahasiswa untuk merepresentasikan Mahasiswa dalam kelas\n",
        "# Definisi kelas\n",
        "class Mahasiswa:\n",
        "  def __init__(self, nama, nim, umur):\n",
        "    self.nama = nama # Atribut objek nama\n",
        "    self.nim = nim # Atribut objek nim\n",
        "    self.umur = umur # Atribut objek umur\n",
        "\n",
        "def tampilkan_info(self):\n",
        "  print(f\"Nama: {self.nama}\")\n",
        "  print(f\"NIM: {self.nim}\")\n",
        "  print(f\"Umur: {self.umur} tahun\")\n",
        "\n",
        "# Metode untuk merubah umur mahasiswa\n",
        "def ubah_umur(self, umur_baru):\n",
        "  self.umur = umur_baru\n",
        "# Membuat objek (instance) dari kelas Mahasiswa\n",
        "mahasiswa1 = Mahasiswa(\"Andi\", \"12345\", 20)\n",
        "mahasiswa2 = Mahasiswa(\"Budi\", \"67890\", 22)\n",
        "# Menggunakan metode dari kelas Mahasiswa\n",
        "mahasiswa1.tampilkan_info()\n",
        "print() # Baris kosong\n",
        "mahasiswa2.tampilkan_info()\n",
        "# Mengubah umur mahasiswa1 menggunakan metode ubah_umur\n",
        "mahasiswa1.ubah_umur(21)\n",
        "\n",
        "# Menampilkan info mahasiswa setelah umur diubah\n",
        "print(\"\\nSetelah mengubah umur mahasiswa1:\")\n",
        "mahasiswa1.tampilkan_info()"
      ],
      "metadata": {
        "id": "kCK5INaL8zcP",
        "outputId": "1381a717-3db9-4eba-f024-cd5c11582c43",
        "colab": {
          "base_uri": "https://localhost:8080/",
          "height": 211
        }
      },
      "execution_count": 22,
      "outputs": [
        {
          "output_type": "error",
          "ename": "AttributeError",
          "evalue": "'Buku' object has no attribute 'tampilkan_info'",
          "traceback": [
            "\u001b[0;31m---------------------------------------------------------------------------\u001b[0m",
            "\u001b[0;31mAttributeError\u001b[0m                            Traceback (most recent call last)",
            "\u001b[0;32m<ipython-input-22-b3b652462960>\u001b[0m in \u001b[0;36m<cell line: 0>\u001b[0;34m()\u001b[0m\n\u001b[1;32m     28\u001b[0m \u001b[0mbuku2\u001b[0m \u001b[0;34m=\u001b[0m \u001b[0mBuku\u001b[0m\u001b[0;34m(\u001b[0m\u001b[0;34m\"Data Science untuk Pemula\"\u001b[0m\u001b[0;34m,\u001b[0m \u001b[0;34m\"Jane Smith\"\u001b[0m\u001b[0;34m,\u001b[0m \u001b[0;36m2020\u001b[0m\u001b[0;34m)\u001b[0m\u001b[0;34m\u001b[0m\u001b[0;34m\u001b[0m\u001b[0m\n\u001b[1;32m     29\u001b[0m \u001b[0;31m# Menggunakan metode objek Buku\u001b[0m\u001b[0;34m\u001b[0m\u001b[0;34m\u001b[0m\u001b[0m\n\u001b[0;32m---> 30\u001b[0;31m \u001b[0mbuku1\u001b[0m\u001b[0;34m.\u001b[0m\u001b[0mtampilkan_info\u001b[0m\u001b[0;34m(\u001b[0m\u001b[0;34m)\u001b[0m\u001b[0;34m\u001b[0m\u001b[0;34m\u001b[0m\u001b[0m\n\u001b[0m\u001b[1;32m     31\u001b[0m \u001b[0mbuku2\u001b[0m\u001b[0;34m.\u001b[0m\u001b[0mpinjam\u001b[0m\u001b[0;34m(\u001b[0m\u001b[0;34m)\u001b[0m\u001b[0;34m\u001b[0m\u001b[0;34m\u001b[0m\u001b[0m\n\u001b[1;32m     32\u001b[0m \u001b[0;31m# Mengubah status buku dan menampilkan informasi\u001b[0m\u001b[0;34m\u001b[0m\u001b[0;34m\u001b[0m\u001b[0m\n",
            "\u001b[0;31mAttributeError\u001b[0m: 'Buku' object has no attribute 'tampilkan_info'"
          ]
        }
      ]
    },
    {
      "source": [
        "# Kelas Buku untuk merepresentasikan buku di perpustakaan\n",
        "class Buku:\n",
        "  def __init__(self, judul, pengarang, tahun_terbit):\n",
        "    self.judul = judul\n",
        "    self.pengarang = pengarang\n",
        "    self.tahun_terbit = tahun_terbit\n",
        "    self.status = \"Tersedia\" # Status buku, default adalah Tersedia\n",
        "\n",
        "  # The functions tampilkan_info, pinjam, and kembalikan should be defined within the Buku class\n",
        "  def tampilkan_info(self):\n",
        "    print(f\"Judul: {self.judul}\")\n",
        "    print(f\"Pengarang: {self.pengarang}\")\n",
        "    print(f\"Tahun Terbit: {self.tahun_terbit}\")\n",
        "    print(f\"Status: {self.status}\")\n",
        "\n",
        "  def pinjam(self):\n",
        "    if self.status == \"Tersedia\":\n",
        "      self.status = \"Dipinjam\"\n",
        "      print(f\"Buku '{self.judul}' telah dipinjam.\")\n",
        "    else:\n",
        "      print(f\"Buku '{self.judul}' sedang dipinjam.\")\n",
        "\n",
        "  def kembalikan(self):\n",
        "    if self.status == \"Dipinjam\":\n",
        "      self.status = \"Tersedia\"\n",
        "      print(f\"Buku '{self.judul}' telah dikembalikan.\")\n",
        "    else:\n",
        "      print(f\"Buku '{self.judul}' tidak sedang dipinjam.\")\n",
        "\n",
        "# Membuat objek dari kelas Buku\n",
        "buku1 = Buku(\"Pemrograman Python\", \"John Doe\", 2021)\n",
        "buku2 = Buku(\"Data Science untuk Pemula\", \"Jane Smith\", 2020)\n",
        "# Menggunakan metode objek Buku\n",
        "buku1.tampilkan_info()\n",
        "buku2.pinjam()\n",
        "# Mengubah status buku dan menampilkan informasi\n",
        "buku2.kembalikan()\n",
        "buku1.pinjam()\n",
        "buku1.tampilkan_info()\n",
        "# Kelas Mahasiswa untuk merepresentasikan Mahasiswa dalam kelas\n",
        "# Definisi kelas\n",
        "class Mahasiswa:\n",
        "  def __init__(self, nama, nim, umur):\n",
        "    self.nama = nama # Atribut objek nama\n",
        "    self.nim = nim # Atribut objek nim\n",
        "    self.umur = umur # Atribut objek umur\n",
        "\n",
        "  def tampilkan_info(self):\n",
        "    print(f\"Nama: {self.nama}\")\n",
        "    print(f\"NIM: {self.nim}\")\n",
        "    print(f\"Umur: {self.umur} tahun\")\n",
        "\n",
        "  # Metode untuk merubah umur mahasiswa\n",
        "  def ubah_umur(self, umur_baru):\n",
        "    self.umur = umur_baru\n",
        "# Membuat objek (instance) dari kelas Mahasiswa\n",
        "mahasiswa1 = Mahasiswa(\"Andi\", \"12345\", 20)\n",
        "mahasiswa2 = Mahasiswa(\"Budi\", \"67890\", 22)\n",
        "# Menggunakan metode dari kelas Mahasiswa\n",
        "mahasiswa1.tampilkan_info()\n",
        "print() # Baris kosong\n",
        "mahasiswa2.tampilkan_info()\n",
        "# Mengubah umur mahasiswa1 menggunakan metode ubah_umur\n",
        "mahasiswa1.ubah_umur(21)\n",
        "\n",
        "# Menampilkan info mahasiswa setelah umur diubah\n",
        "print(\"\\nSetelah mengubah umur mahasiswa1:\")\n",
        "mahasiswa1.tampilkan_info()"
      ],
      "cell_type": "code",
      "metadata": {
        "id": "hcnC85c6-PTP",
        "outputId": "64469723-712f-44f4-a9dc-309d156f75ea",
        "colab": {
          "base_uri": "https://localhost:8080/"
        }
      },
      "execution_count": 23,
      "outputs": [
        {
          "output_type": "stream",
          "name": "stdout",
          "text": [
            "Judul: Pemrograman Python\n",
            "Pengarang: John Doe\n",
            "Tahun Terbit: 2021\n",
            "Status: Tersedia\n",
            "Buku 'Data Science untuk Pemula' telah dipinjam.\n",
            "Buku 'Data Science untuk Pemula' telah dikembalikan.\n",
            "Buku 'Pemrograman Python' telah dipinjam.\n",
            "Judul: Pemrograman Python\n",
            "Pengarang: John Doe\n",
            "Tahun Terbit: 2021\n",
            "Status: Dipinjam\n",
            "Nama: Andi\n",
            "NIM: 12345\n",
            "Umur: 20 tahun\n",
            "\n",
            "Nama: Budi\n",
            "NIM: 67890\n",
            "Umur: 22 tahun\n",
            "\n",
            "Setelah mengubah umur mahasiswa1:\n",
            "Nama: Andi\n",
            "NIM: 12345\n",
            "Umur: 21 tahun\n"
          ]
        }
      ]
    }
  ]
}