{
  "nbformat": 4,
  "nbformat_minor": 0,
  "metadata": {
    "colab": {
      "provenance": [],
      "authorship_tag": "ABX9TyM/0GAayM+N0ZZp6uwgJ8ai",
      "include_colab_link": true
    },
    "kernelspec": {
      "name": "python3",
      "display_name": "Python 3"
    },
    "language_info": {
      "name": "python"
    }
  },
  "cells": [
    {
      "cell_type": "markdown",
      "metadata": {
        "id": "view-in-github",
        "colab_type": "text"
      },
      "source": [
        "<a href=\"https://colab.research.google.com/github/va11h411a/Trying_Python_PBO_2/blob/main/jobsheet%2003.ipynb\" target=\"_parent\"><img src=\"https://colab.research.google.com/assets/colab-badge.svg\" alt=\"Open In Colab\"/></a>"
      ]
    },
    {
      "cell_type": "markdown",
      "source": [
        "Praktikum 01: Inheritance Dasar"
      ],
      "metadata": {
        "id": "sKH5fGWyfA9i"
      }
    },
    {
      "cell_type": "code",
      "execution_count": 12,
      "metadata": {
        "id": "L4YNBIe2SQTg",
        "outputId": "a35a6054-5fd6-49b1-a321-b5c65362df41",
        "colab": {
          "base_uri": "https://localhost:8080/"
        }
      },
      "outputs": [
        {
          "output_type": "stream",
          "name": "stdout",
          "text": [
            "ini adalah mobil Tesla Model S berwarna merah\n",
            "Mesin kendaraan Tesla Model S dinyalakan.\n",
            "merk mobil: Tesla Model S\n"
          ]
        }
      ],
      "source": [
        "#kelas induk\n",
        "\n",
        "class Kendaraan:\n",
        "  def __init__(self, merk):\n",
        "    self.merk = merk\n",
        "\n",
        "  def mulai_mesin(self):\n",
        "    print(f\"Mesin kendaraan {self.merk} dinyalakan.\")\n",
        "\n",
        "#Kelas anak\n",
        "class Mobil (Kendaraan):\n",
        "  def __init__(self, merk, warna):\n",
        "\n",
        "    self.merk = merk\n",
        "    self.warna = warna\n",
        "\n",
        "  def info_mobil(self):\n",
        "    print(f\"ini adalah mobil {self.merk} berwarna {self.warna}\")\n",
        "\n",
        "if __name__ == \"__main__\":\n",
        "  mobil_tesla = Mobil(\"Tesla Model S\", \"merah\")\n",
        "\n",
        "  mobil_tesla.info_mobil()\n",
        "\n",
        "  mobil_tesla.mulai_mesin()\n",
        "\n",
        "  print(f\"merk mobil: {mobil_tesla.merk}\")"
      ]
    },
    {
      "cell_type": "markdown",
      "source": [
        "Praktikum 02: Menggunakan super() dalam konstruktor"
      ],
      "metadata": {
        "id": "2HuGUGTHjTOe"
      }
    },
    {
      "cell_type": "code",
      "source": [
        "#Kelas Induk\n",
        "class Person:\n",
        "  def __init__(self, nama, usia):\n",
        "    print(f\"(memanggil __init__ Person untuk '{nama})\")\n",
        "    self.nama = nama\n",
        "    self.usia = usia\n",
        "\n",
        "  def perkenalkan_diri(self):\n",
        "    print(f\"halo, nama saya {self.nama}, usia saya {self.usia} tahun.\")\n",
        "\n",
        "#Kelas Anak\n",
        "class Student (Person):\n",
        "  def __init__(self, nama, usia, student_id, jurusan):\n",
        "    print(f\"(memanggil__init__ Student  untuk '{nama}')\")\n",
        "\n",
        "    super().__init__(nama, usia)\n",
        "\n",
        "    self.student_id = student_id\n",
        "    self.jurusan = jurusan\n",
        "    print(f\"(Inisialisasi atribut Student selesai untuk'{nama}')\")\n",
        "\n",
        "  def info_akademik(self):\n",
        "    print(f\"Id Mahasiswa: {self.student_id}\")\n",
        "    print(f\"Jurusan: {self.jurusan}\")\n",
        "\n",
        "  def perkenalkan_diri(self):\n",
        "    super().perkenalkan_diri()\n",
        "    print(f\"Saya adalah mahasiswa dengan id {self.student_id}, jurusan {self.jurusan}.\")\n",
        "\n",
        "#Kode utama\n",
        "\n",
        "if __name__ == \"__main__\":\n",
        "  dosen = Person (\"Pak Anton\", 45)\n",
        "  print(\"-\" * 20)\n",
        "  dosen.perkenalkan_diri()\n",
        "  print(\"\\n\" +\"=\" * 30 + \"\\n\")\n",
        "\n",
        "  mahasiswa = Student(\"Dewi\", 20, \"MHs001\", \"Teknik Komputer\")\n",
        "  print (\"-\" * 20)\n",
        "  mahasiswa.perkenalkan_diri()\n",
        "  print (\"-\" * 20)\n",
        "  mahasiswa.info_akademik()\n",
        "\n",
        "  print(f\"\\nUsia mahasiswa {mahasiswa.nama}: {mahasiswa.usia}\")"
      ],
      "metadata": {
        "id": "GfnqaqLOjZdi",
        "outputId": "c2ef8291-d46d-46f9-a4cb-e1ce2abb32d9",
        "colab": {
          "base_uri": "https://localhost:8080/"
        }
      },
      "execution_count": 19,
      "outputs": [
        {
          "output_type": "stream",
          "name": "stdout",
          "text": [
            "(memanggil __init__ Person untuk 'Pak Anton)\n",
            "--------------------\n",
            "halo, nama saya Pak Anton, usia saya 45 tahun.\n",
            "\n",
            "==============================\n",
            "\n",
            "(memanggil__init__ Student  untuk 'Dewi')\n",
            "(memanggil __init__ Person untuk 'Dewi)\n",
            "(Inisialisasi atribut Student selesai untuk'Dewi')\n",
            "--------------------\n",
            "halo, nama saya Dewi, usia saya 20 tahun.\n",
            "Saya adalah mahasiswa dengan id MHs001, jurusan Teknik Komputer.\n",
            "--------------------\n",
            "Id Mahasiswa: MHs001\n",
            "Jurusan: Teknik Komputer\n",
            "\n",
            "Usia mahasiswa Dewi: 20\n"
          ]
        }
      ]
    },
    {
      "cell_type": "markdown",
      "source": [
        "Praktikum 03:Method Overriding dan super()"
      ],
      "metadata": {
        "id": "D8TM-oUVoXEU"
      }
    },
    {
      "cell_type": "code",
      "source": [
        "# Kelas Induk\n",
        "\n",
        "class Hewan:\n",
        "  def __init__(self, nama):\n",
        "    self.nama = nama\n",
        "\n",
        "  def bersuara(self):\n",
        "    print(f\"{self.nama} mengeluarkan suara genetik.\")\n",
        "\n",
        "  def tampilkan_info(self):\n",
        "    print(f\"Ini adalah hewan bernama {self.nama}.\")\n",
        "\n",
        "#kelas anak\n",
        "class Kucing (Hewan):\n",
        "  def __init__(self, nama, ras):\n",
        "    super().__init__(nama)\n",
        "    self.ras = ras\n",
        "\n",
        "  def bersuara (self):\n",
        "    print (f\"{self.nama} (kucing) mengeong: Meow!\")\n",
        "\n",
        "  def tampilkan_info(self):\n",
        "    super().tampilkan_info()\n",
        "    print(f\"Ini adalah kusing ras {self.ras}.\")\n",
        "\n",
        "#kode utama\n",
        "\n",
        "if __name__ == \"__main__\":\n",
        "  hewan_umum = Hewan(\"Makhluk\")\n",
        "  kucing_persia = Kucing(\"Puspus\", \"Persia\")\n",
        "\n",
        "  print (\"info Hewan umum:\")\n",
        "  hewan_umum.tampilkan_info()\n",
        "  hewan_umum.bersuara()\n",
        "\n",
        "  print(\"\\nInfo Kucing Persia:\")\n",
        "  kucing_persia.tampilkan_info()\n",
        "  kucing_persia.bersuara()\n",
        "  print(\"-\" *20)\n",
        "\n",
        "  print(\"Info kucing persia:\")\n",
        "  kucing_persia.tampilkan_info()\n",
        "  kucing_persia.bersuara()"
      ],
      "metadata": {
        "id": "BHeyTo3boeha",
        "outputId": "fc0d4888-6eac-4985-dfac-0430135339e0",
        "colab": {
          "base_uri": "https://localhost:8080/"
        }
      },
      "execution_count": 24,
      "outputs": [
        {
          "output_type": "stream",
          "name": "stdout",
          "text": [
            "info Hewan umum:\n",
            "Ini adalah hewan bernama Makhluk.\n",
            "Makhluk mengeluarkan suara genetik.\n",
            "\n",
            "Info Kucing Persia:\n",
            "Ini adalah hewan bernama Puspus.\n",
            "Ini adalah kusing ras Persia.\n",
            "Puspus (kucing) mengeong: Meow!\n",
            "--------------------\n",
            "Info kucing persia:\n",
            "Ini adalah hewan bernama Puspus.\n",
            "Ini adalah kusing ras Persia.\n",
            "Puspus (kucing) mengeong: Meow!\n"
          ]
        }
      ]
    },
    {
      "cell_type": "markdown",
      "source": [
        "Praktikum 4: Multi_level Inheritance"
      ],
      "metadata": {
        "id": "9XjTjKtwqsRv"
      }
    },
    {
      "cell_type": "code",
      "source": [
        "#Kelas Induk level 1\n",
        "class Organisme:\n",
        "  def __init__(self, nama):\n",
        "    self.nama = nama\n",
        "    print(f\"Organisme '{self.nama}' diciptakan.\")\n",
        "\n",
        "  def bernapas(self):\n",
        "    print(f\"{self.nama} sedang bernafas.\")\n",
        "\n",
        "class Hewan(Organisme):\n",
        "  def __init__(self, nama, jenis_makanan):\n",
        "    super().__init__(nama)\n",
        "    self.jenis_makanan = jenis_makanan\n",
        "    print(f\"Hewan '{self.nama}' adalah {self.jenis_makanan}.\")\n",
        "\n",
        "  def bergerak(self):\n",
        "    print (f\"{self.nama} sedang bergerak.\")\n",
        "\n",
        "class Mamalia(Hewan):\n",
        "  def __init__(self, nama, jenis_makanan, jumlah_kaki):\n",
        "    super().__init__(nama, jenis_makanan)\n",
        "    self.jumlah_kaki = jumlah_kaki\n",
        "    print(f\"Mamalia '{self.nama} memiliki {self.jumlah_kaki} kaki.\")\n",
        "\n",
        "  def menyusui (self):\n",
        "    print (f\"{self.nama} sedang menyusui\")\n",
        "\n",
        "if __name__ == \"__main__\":\n",
        "  kucing = Mamalia (\"Kucing Persia\", \"Carnivora\", 4)\n",
        "  print (\"-\" * 20)\n",
        "\n",
        "  kucing.menyusui()\n",
        "\n",
        "  kucing.bergerak()\n",
        "  print(f\"Jenis makanan: {kucing.jenis_makanan}\")\n",
        "\n",
        "  kucing.bernapas()\n",
        "  print(f\"Nama organisme: {kucing.nama}\")"
      ],
      "metadata": {
        "id": "729--amFqxOC",
        "outputId": "4e2a0132-a91a-4515-97c3-804ea024128e",
        "colab": {
          "base_uri": "https://localhost:8080/"
        }
      },
      "execution_count": 28,
      "outputs": [
        {
          "output_type": "stream",
          "name": "stdout",
          "text": [
            "Organisme 'Kucing Persia' diciptakan.\n",
            "Hewan 'Kucing Persia' adalah Carnivora.\n",
            "Mamalia 'Kucing Persia memiliki 4 kaki.\n",
            "--------------------\n",
            "Kucing Persia sedang menyusui\n",
            "Kucing Persia sedang bergerak.\n",
            "Jenis makanan: Carnivora\n",
            "Kucing Persia sedang bernafas.\n",
            "Nama organisme: Kucing Persia\n"
          ]
        }
      ]
    },
    {
      "cell_type": "markdown",
      "source": [
        "Praktikum 05: Hierarchical Inheritance"
      ],
      "metadata": {
        "id": "sHy-c82utpDb"
      }
    },
    {
      "cell_type": "code",
      "source": [
        "import locale\n",
        "try:\n",
        "  locale.setlocale(locale.LC_ALL, 'id_ID.UTF-8')\n",
        "except locale.Error:\n",
        "  print (\"Locale id_ID.UTF-8 tidak tersedia. menggunakan locale default.\")\n",
        "  try:\n",
        "  locale.setlocale(locale.LC_ALL, 'id_ID')\n",
        "except locale.Error:\n",
        "  print (\"Locale id_ID.UTF-8 tidak tersedia. menggunakan locale default.\")\n",
        "\n",
        "def format_rupiah (angka):\n",
        "  return locale.currency(angka, grouping=True, symbol= 'Rp')\n",
        "\n",
        "#kelas induk\n",
        "class Pegawai:\n",
        "  def __init__(self, nama, id_pegawai, gaji_pokok):\n",
        "    self.nama = nama\n",
        "    self.id_pegawai = id_pegawai\n",
        "    self.gaji_pokok = gaji_pokok\n",
        "\n",
        "  def hitung_gaji(self):\n",
        "    return self.gaji_pokok\n",
        "\n",
        "  def tampilkan_info(self):\n",
        "    print(f\"ID: {self.id_pegawai}, Nama: {self.nama}\")\n",
        "    print(f\"Gaji Pokok: {format_rupiah(self.gaji_pokok)}\")\n",
        "\n",
        "class Manager(Pegawai):\n",
        "  def __init__(self, nama, id_pegawai, gaji_pokok, tunjangan_jabatan):\n",
        "    super(). __init__(nama, id_pegawai, gaji_pokok)\n",
        "    self.tunjangan_jabatan = tunjangan_jabatan\n",
        "\n",
        "  def hitung_gaji(self):\n",
        "    gaji_total = super().hitung_gaji() + self.tunjangan_jabatan\n",
        "\n",
        "  def tampilk_info(self):\n",
        "    print (\"--- info Manager ---\")\n",
        "    super(). tampilkan_info()\n",
        "    print(f\"Tunjangan Jabatan: {format_rupiah(self.tunjangan_jabatan)}\")\n",
        "    print(f\"Total Gaji: {format_rupiah(self.hitung_gaji())}\")\n",
        "\n",
        "class StafTeknis(Pegawai):\n",
        "  def __init__(self, nama, id_pegawai, gaji_pokok, keahlian, bonus_keahlian):\n",
        "    super().__init__(nama, id_pegawai, gaji_pokok)\n",
        "    self.keahlian = keahlian\n",
        "    self.bonus_keahlian = bonus_keahlian\n",
        "\n",
        "  def hitung_gaji(self):\n",
        "    gaji_total = super().hitung_gaji() + self.bonus_keahlian\n",
        "    return gaji_total\n",
        "\n",
        "  def tampilkan_info(self):\n",
        "    print(\"--- Info Staf Teknis ---\")\n",
        "    super().tampilkan_info()\n",
        "    print(f\"Keahlian: {self.keahlian}\")\n",
        "    print(f\"Bonus Keahlian: {format_rupiah(self.bonus_keahlian)}\")\n",
        "    print(f\"Total Gaji: {format_rupiah(self.hitung_gaji())}\")\n",
        "\n",
        "#Kode Utama\n",
        "if __name__ ==\"__main__\":\n",
        "  manager1 = Manager(\"Budi Santoso\", \"M001\", 10000000, 50000000)\n",
        "  staf1 = StafTeknis(\"Citra Lestari\", \"S001\", 7000000, \"Python Programming\", 1500000)\n",
        "  pegawai_baru = Pegawai(\"Rian\", \"P005\", 5000000)\n",
        "\n",
        "  print(\"menampilkan informasi pegawai:\")\n",
        "  manager1.tampilkan_info()\n",
        "  print(\"-\" * 20)\n",
        "  staf1.tampilkan_info()\n",
        "  print(\"-\" * 30)\n",
        "\n",
        "  print(\"--- Info Pegawai Baru ---\")\n",
        "  pegawai_baru.tampilkan_info()\n",
        "  print(f\" Total Gaji: {format_rupiah (pegawai_baru.hitung_haji())}\")\n",
        "\n",
        "  print(\"-\" * 30)"
      ],
      "metadata": {
        "id": "oMYzOHY5tveR",
        "outputId": "7f7b1942-b385-46f5-8121-73a745c75747",
        "colab": {
          "base_uri": "https://localhost:8080/",
          "height": 110
        }
      },
      "execution_count": 30,
      "outputs": [
        {
          "output_type": "error",
          "ename": "IndentationError",
          "evalue": "expected an indented block after 'try' statement on line 6 (<ipython-input-30-63b0473bf653>, line 7)",
          "traceback": [
            "\u001b[0;36m  File \u001b[0;32m\"<ipython-input-30-63b0473bf653>\"\u001b[0;36m, line \u001b[0;32m7\u001b[0m\n\u001b[0;31m    locale.setlocale(locale.LC_ALL, 'id_ID')\u001b[0m\n\u001b[0m    ^\u001b[0m\n\u001b[0;31mIndentationError\u001b[0m\u001b[0;31m:\u001b[0m expected an indented block after 'try' statement on line 6\n"
          ]
        }
      ]
    }
  ]
}