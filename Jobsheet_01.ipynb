{
  "cells": [
    {
      "cell_type": "markdown",
      "metadata": {
        "id": "view-in-github",
        "colab_type": "text"
      },
      "source": [
        "<a href=\"https://colab.research.google.com/github/va11h411a/Trying_Python_PBO_2/blob/main/Jobsheet_01.ipynb\" target=\"_parent\"><img src=\"https://colab.research.google.com/assets/colab-badge.svg\" alt=\"Open In Colab\"/></a>"
      ]
    },
    {
      "cell_type": "code",
      "source": [
        "#1 Number (int, float, complex)\n",
        "\n",
        "#int/integer\n",
        "angka_int = 1\n",
        "print(\"angka int=\", angka_int, \"==\", type(angka_int))\n",
        "print('integer merupakan sebuah jenis data yang berisikan bilangan Bulat')\n",
        "print('')\n",
        "\n",
        "#float\n",
        "angka_float  = 1.1\n",
        "print(\"angka float\", angka_float, \"==\", type(angka_float))\n",
        "print('integer merupakan sebuah jenis data yang berisikan bilangan decimal')\n",
        "print('')\n",
        "\n",
        "#complex\n",
        "angka_complex = 5 + 2j\n",
        "print('angka complex', angka_complex, '==', type(angka_complex))\n",
        "print('integer merupakan sebuah jenis data yang berisikan bilangan rill dan Imajiner')\n",
        "print('')\n",
        "\n"
      ],
      "metadata": {
        "colab": {
          "base_uri": "https://localhost:8080/"
        },
        "id": "OgNjLiRfQdB9",
        "outputId": "cca54ab8-e80f-4370-dd5f-1cf0978ed11a"
      },
      "execution_count": 13,
      "outputs": [
        {
          "output_type": "stream",
          "name": "stdout",
          "text": [
            "angka int= 1 == <class 'int'>\n",
            "integer merupakan sebuah jenis data yang berisikan bilangan Bulat\n",
            "\n",
            "angka float 1.1 == <class 'float'>\n",
            "integer merupakan sebuah jenis data yang berisikan bilangan decimal\n",
            "\n",
            "angka complex (5+2j) == <class 'complex'>\n",
            "integer merupakan sebuah jenis data yang berisikan bilangan rill dan Imajiner\n",
            "\n"
          ]
        }
      ]
    },
    {
      "cell_type": "code",
      "source": [
        "#boolean\n",
        "\n",
        "Activated = True\n",
        "print('Is that activated already?', Activated, '==', type(Activated))\n",
        "print('boolean merupakan sebuah jenis data yang berisikan nilai true dan false')\n"
      ],
      "metadata": {
        "id": "tSooHOqkWGOT",
        "outputId": "ba692af9-fd5c-4c1f-d782-b4c7285fa235",
        "colab": {
          "base_uri": "https://localhost:8080/"
        }
      },
      "execution_count": 15,
      "outputs": [
        {
          "output_type": "stream",
          "name": "stdout",
          "text": [
            "Is that activated? True == <class 'bool'>\n",
            "boolean merupakan sebuah jenis data yang berisikan nilai true dan false\n"
          ]
        }
      ]
    },
    {
      "cell_type": "code",
      "source": [
        "#string\n",
        "\n",
        "teks = 'hello world'\n",
        "print('opening',teks, '==', type(teks))\n",
        "print('string merupakan sebuah jenis data yang berisikan karakter atau kata')\n"
      ],
      "metadata": {
        "id": "urdn4gzJW0Ey",
        "outputId": "13b32a56-716d-4476-a2ec-5a73113cb442",
        "colab": {
          "base_uri": "https://localhost:8080/"
        }
      },
      "execution_count": 17,
      "outputs": [
        {
          "output_type": "stream",
          "name": "stdout",
          "text": [
            "opening hello world == <class 'str'>\n",
            "string merupakan sebuah jenis data yang berisikan karakter atau kata\n"
          ]
        }
      ]
    },
    {
      "cell_type": "code",
      "source": [
        "#List\n",
        "\n",
        "daftar = [\"semangka\", \"melon\", \"pisang\"]\n",
        "print('buah yang tersedia', daftar, '==', type(daftar))\n",
        "print('list merupakan sebuah jenis data yang memiliki banyak data')"
      ],
      "metadata": {
        "id": "M_n8XdDJXY6U",
        "outputId": "40c158a6-e27d-4c19-c397-ed0d11190420",
        "colab": {
          "base_uri": "https://localhost:8080/"
        }
      },
      "execution_count": 19,
      "outputs": [
        {
          "output_type": "stream",
          "name": "stdout",
          "text": [
            "buah yang tersedia ['semangka', 'melon', 'pisang'] == <class 'list'>\n",
            "list merupakan sebuah jenis data yang memiliki banyak data\n"
          ]
        }
      ]
    },
    {
      "cell_type": "code",
      "source": [],
      "metadata": {
        "id": "4QrGiDIkZEoW"
      },
      "execution_count": null,
      "outputs": []
    },
    {
      "cell_type": "code",
      "source": [
        "#Tuple\n",
        "\n",
        "Tuple = (10, 11, 12)\n",
        "print('urutan angka yang benar', Tuple, '==', type(Tuple))\n",
        "print('tuple merupakan sebuah jenis data yang terurut dan tidak dapat diubah')"
      ],
      "metadata": {
        "id": "mDIE6F5NX-UO",
        "outputId": "62bdbad1-93c5-4285-fa54-d44a596821c2",
        "colab": {
          "base_uri": "https://localhost:8080/"
        }
      },
      "execution_count": 21,
      "outputs": [
        {
          "output_type": "stream",
          "name": "stdout",
          "text": [
            "urutan angka yang benar (10, 11, 12) == <class 'tuple'>\n",
            "tuple merupakan sebuah jenis data yang terurut dan tidak dapat diubah\n"
          ]
        }
      ]
    },
    {
      "cell_type": "code",
      "source": [
        "#Dictionary\n",
        "\n",
        "Data_barang = {\n",
        "    'nama' : 'Chitato',\n",
        "    'Jenis barang': 'Snack',\n",
        "    'Harga' : 'Rp 7500'\n",
        "}\n",
        "print('nama barang', Data_barang, \"==\", type(Data_barang))\n",
        "print('dictionary merupakan jenis data yang menyimpan data dalam bentuk key-value')\n"
      ],
      "metadata": {
        "id": "vEoPElDFZKmf",
        "outputId": "473e92e3-52ba-44fd-b9b9-0f25b758dab7",
        "colab": {
          "base_uri": "https://localhost:8080/"
        }
      },
      "execution_count": 26,
      "outputs": [
        {
          "output_type": "stream",
          "name": "stdout",
          "text": [
            "nama barang {'nama': 'Chitato', 'Jenis barang': 'Snack', 'Harga': 'Rp 7500'} == <class 'dict'>\n",
            "dictionary merupakan jenis data yang menyimpan data dalam bentuk key-value\n"
          ]
        }
      ]
    },
    {
      "cell_type": "code",
      "source": [
        "#Set\n",
        "\n",
        "Set = {1,4,2,3,5}\n",
        "print('urutan yang benar', Set, '==', type(Set))\n",
        "print('set merupakan jenis data yang tidak terurut dan unik (tiap elemen hanya muncul sekali)')\n"
      ],
      "metadata": {
        "id": "9cNHdm-6aUDm",
        "outputId": "bbaf85ab-3714-4405-e444-044e39f7dd82",
        "colab": {
          "base_uri": "https://localhost:8080/"
        }
      },
      "execution_count": 27,
      "outputs": [
        {
          "output_type": "stream",
          "name": "stdout",
          "text": [
            "urutan yang benar {1, 2, 3, 4, 5} == <class 'set'>\n",
            "set merupakan jenis data yang tidak terurut dan unik (tiap elemen hanya muncul sekali)\n"
          ]
        }
      ]
    },
    {
      "cell_type": "code",
      "source": [
        "#contoh konversi nilai data\n",
        "\n",
        "nilai_str = '250'\n",
        "print('nilai str', nilai_str, '==', type(nilai_str))\n",
        "print('')\n",
        "\n",
        "nilai_int = int(nilai_str)\n",
        "print ('hasil konversi', nilai_int, '==', type(nilai_int))\n",
        "print('')\n",
        "\n",
        "print('jenis data dari angka 250 berubah dari string manjadi integer')"
      ],
      "metadata": {
        "id": "e6hxC4Ona1Yq",
        "outputId": "43e8ac86-7452-4c1b-9850-131258a5ce2a",
        "colab": {
          "base_uri": "https://localhost:8080/"
        }
      },
      "execution_count": 29,
      "outputs": [
        {
          "output_type": "stream",
          "name": "stdout",
          "text": [
            "nilai str 250 == <class 'str'>\n",
            "\n",
            "hasil konversi 250 == <class 'int'>\n",
            "\n",
            "jenis data dari angka 250 berubah dari string manjadi integer\n"
          ]
        }
      ]
    }
  ],
  "metadata": {
    "colab": {
      "name": "Welcome To Colab",
      "toc_visible": true,
      "provenance": [],
      "include_colab_link": true
    },
    "kernelspec": {
      "display_name": "Python 3",
      "name": "python3"
    }
  },
  "nbformat": 4,
  "nbformat_minor": 0
}