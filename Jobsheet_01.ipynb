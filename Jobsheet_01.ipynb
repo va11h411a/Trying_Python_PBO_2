{
  "cells": [
    {
      "cell_type": "markdown",
      "metadata": {
        "id": "view-in-github",
        "colab_type": "text"
      },
      "source": [
        "<a href=\"https://colab.research.google.com/github/va11h411a/Trying_Python_PBO_2/blob/main/Jobsheet_01.ipynb\" target=\"_parent\"><img src=\"https://colab.research.google.com/assets/colab-badge.svg\" alt=\"Open In Colab\"/></a>"
      ]
    },
    {
      "cell_type": "code",
      "source": [
        "#1 Number (int, float, complex)\n",
        "\n",
        "#int/integer\n",
        "angka_int = 1\n",
        "print(\"angka int=\", angka_int, \"==\", type(angka_int))\n",
        "print('integer merupakan sebuah jenis data yang berisikan bilangan Bulat')\n",
        "print('')\n",
        "\n",
        "#float\n",
        "angka_float  = 1.1\n",
        "print(\"angka float\", angka_float, \"==\", type(angka_float))\n",
        "print('integer merupakan sebuah jenis data yang berisikan bilangan decimal')\n",
        "print('')\n",
        "\n",
        "#complex\n",
        "angka_complex = 5 + 2j\n",
        "print('angka complex', angka_complex, '==', type(angka_complex))\n",
        "print('integer merupakan sebuah jenis data yang berisikan bilangan rill dan Imajiner')\n",
        "print('')\n",
        "\n"
      ],
      "metadata": {
        "colab": {
          "base_uri": "https://localhost:8080/"
        },
        "id": "OgNjLiRfQdB9",
        "outputId": "cca54ab8-e80f-4370-dd5f-1cf0978ed11a"
      },
      "execution_count": null,
      "outputs": [
        {
          "output_type": "stream",
          "name": "stdout",
          "text": [
            "angka int= 1 == <class 'int'>\n",
            "integer merupakan sebuah jenis data yang berisikan bilangan Bulat\n",
            "\n",
            "angka float 1.1 == <class 'float'>\n",
            "integer merupakan sebuah jenis data yang berisikan bilangan decimal\n",
            "\n",
            "angka complex (5+2j) == <class 'complex'>\n",
            "integer merupakan sebuah jenis data yang berisikan bilangan rill dan Imajiner\n",
            "\n"
          ]
        }
      ]
    },
    {
      "cell_type": "code",
      "source": [
        "#boolean\n",
        "\n",
        "Activated = True\n",
        "print('Is that activated already?', Activated, '==', type(Activated))\n",
        "print('boolean merupakan sebuah jenis data yang berisikan nilai true dan false')\n"
      ],
      "metadata": {
        "colab": {
          "base_uri": "https://localhost:8080/"
        },
        "id": "tSooHOqkWGOT",
        "outputId": "ba692af9-fd5c-4c1f-d782-b4c7285fa235"
      },
      "execution_count": null,
      "outputs": [
        {
          "output_type": "stream",
          "name": "stdout",
          "text": [
            "Is that activated? True == <class 'bool'>\n",
            "boolean merupakan sebuah jenis data yang berisikan nilai true dan false\n"
          ]
        }
      ]
    },
    {
      "cell_type": "code",
      "source": [
        "#string\n",
        "\n",
        "teks = 'hello world'\n",
        "print('opening',teks, '==', type(teks))\n",
        "print('string merupakan sebuah jenis data yang berisikan karakter atau kata')\n"
      ],
      "metadata": {
        "colab": {
          "base_uri": "https://localhost:8080/"
        },
        "id": "urdn4gzJW0Ey",
        "outputId": "13b32a56-716d-4476-a2ec-5a73113cb442"
      },
      "execution_count": null,
      "outputs": [
        {
          "output_type": "stream",
          "name": "stdout",
          "text": [
            "opening hello world == <class 'str'>\n",
            "string merupakan sebuah jenis data yang berisikan karakter atau kata\n"
          ]
        }
      ]
    },
    {
      "cell_type": "code",
      "source": [
        "#List\n",
        "\n",
        "daftar = [\"semangka\", \"melon\", \"pisang\"]\n",
        "print('buah yang tersedia', daftar, '==', type(daftar))\n",
        "print('list merupakan sebuah jenis data yang memiliki banyak data')"
      ],
      "metadata": {
        "colab": {
          "base_uri": "https://localhost:8080/"
        },
        "id": "M_n8XdDJXY6U",
        "outputId": "40c158a6-e27d-4c19-c397-ed0d11190420"
      },
      "execution_count": null,
      "outputs": [
        {
          "output_type": "stream",
          "name": "stdout",
          "text": [
            "buah yang tersedia ['semangka', 'melon', 'pisang'] == <class 'list'>\n",
            "list merupakan sebuah jenis data yang memiliki banyak data\n"
          ]
        }
      ]
    },
    {
      "cell_type": "code",
      "source": [],
      "metadata": {
        "id": "4QrGiDIkZEoW"
      },
      "execution_count": null,
      "outputs": []
    },
    {
      "cell_type": "code",
      "source": [
        "#Tuple\n",
        "\n",
        "Tuple = (10, 11, 12)\n",
        "print('urutan angka yang benar', Tuple, '==', type(Tuple))\n",
        "print('tuple merupakan sebuah jenis data yang terurut dan tidak dapat diubah')"
      ],
      "metadata": {
        "colab": {
          "base_uri": "https://localhost:8080/"
        },
        "id": "mDIE6F5NX-UO",
        "outputId": "62bdbad1-93c5-4285-fa54-d44a596821c2"
      },
      "execution_count": null,
      "outputs": [
        {
          "output_type": "stream",
          "name": "stdout",
          "text": [
            "urutan angka yang benar (10, 11, 12) == <class 'tuple'>\n",
            "tuple merupakan sebuah jenis data yang terurut dan tidak dapat diubah\n"
          ]
        }
      ]
    },
    {
      "cell_type": "code",
      "source": [
        "#Dictionary\n",
        "\n",
        "Data_barang = {\n",
        "    'nama' : 'Chitato',\n",
        "    'Jenis barang': 'Snack',\n",
        "    'Harga' : 'Rp 7500'\n",
        "}\n",
        "print('nama barang', Data_barang, \"==\", type(Data_barang))\n",
        "print('dictionary merupakan jenis data yang menyimpan data dalam bentuk key-value')\n"
      ],
      "metadata": {
        "colab": {
          "base_uri": "https://localhost:8080/"
        },
        "id": "vEoPElDFZKmf",
        "outputId": "473e92e3-52ba-44fd-b9b9-0f25b758dab7"
      },
      "execution_count": null,
      "outputs": [
        {
          "output_type": "stream",
          "name": "stdout",
          "text": [
            "nama barang {'nama': 'Chitato', 'Jenis barang': 'Snack', 'Harga': 'Rp 7500'} == <class 'dict'>\n",
            "dictionary merupakan jenis data yang menyimpan data dalam bentuk key-value\n"
          ]
        }
      ]
    },
    {
      "cell_type": "code",
      "source": [
        "#Set\n",
        "\n",
        "Set = {1,4,2,3,5}\n",
        "print('urutan yang benar', Set, '==', type(Set))\n",
        "print('set merupakan jenis data yang tidak terurut dan unik (tiap elemen hanya muncul sekali)')\n"
      ],
      "metadata": {
        "colab": {
          "base_uri": "https://localhost:8080/"
        },
        "id": "9cNHdm-6aUDm",
        "outputId": "bbaf85ab-3714-4405-e444-044e39f7dd82"
      },
      "execution_count": null,
      "outputs": [
        {
          "output_type": "stream",
          "name": "stdout",
          "text": [
            "urutan yang benar {1, 2, 3, 4, 5} == <class 'set'>\n",
            "set merupakan jenis data yang tidak terurut dan unik (tiap elemen hanya muncul sekali)\n"
          ]
        }
      ]
    },
    {
      "cell_type": "code",
      "source": [
        "#contoh konversi nilai data\n",
        "\n",
        "nilai_str = '250'\n",
        "print('nilai str', nilai_str, '==', type(nilai_str))\n",
        "print('')\n",
        "\n",
        "nilai_int = int(nilai_str)\n",
        "print ('hasil konversi', nilai_int, '==', type(nilai_int))\n",
        "print('')\n",
        "\n",
        "print('jenis data dari angka 250 berubah dari string manjadi integer')"
      ],
      "metadata": {
        "colab": {
          "base_uri": "https://localhost:8080/"
        },
        "id": "e6hxC4Ona1Yq",
        "outputId": "43e8ac86-7452-4c1b-9850-131258a5ce2a"
      },
      "execution_count": null,
      "outputs": [
        {
          "output_type": "stream",
          "name": "stdout",
          "text": [
            "nilai str 250 == <class 'str'>\n",
            "\n",
            "hasil konversi 250 == <class 'int'>\n",
            "\n",
            "jenis data dari angka 250 berubah dari string manjadi integer\n"
          ]
        }
      ]
    },
    {
      "cell_type": "code",
      "source": [
        "#variable declare\n",
        "nama = \"budi\"\n",
        "umur = 20\n",
        "tinggi = 172\n",
        "is_student = True\n",
        "\n",
        "print ('nama =', nama)\n",
        "print ('umur =', umur)\n",
        "print ('tinggi =', tinggi)\n",
        "print ('murid polines?', is_student)\n",
        "print('')\n",
        "\n",
        "print('python  tidak memerlukan deklarasi tipe data secara eksplisit.')\n",
        "print('Tipe data variabel akan menyesuaikan nilai yang diberikan.')"
      ],
      "metadata": {
        "colab": {
          "base_uri": "https://localhost:8080/"
        },
        "id": "Bvuf63h6ds7d",
        "outputId": "e40f4b7a-6ca1-43ab-d8a3-be0d1de76421"
      },
      "execution_count": null,
      "outputs": [
        {
          "output_type": "stream",
          "name": "stdout",
          "text": [
            "nama = budi\n",
            "umur = 20\n",
            "tinggi = 172\n",
            "murid polines? True\n",
            "\n",
            "python  tidak memerlukan deklarasi tipe data secara eksplisit.\n",
            "Tipe data variabel akan menyesuaikan nilai yang diberikan.\n"
          ]
        }
      ]
    },
    {
      "cell_type": "code",
      "source": [
        "#operasi aritmatika\n",
        "\n",
        "a = 11\n",
        "b = 3\n",
        "\n",
        "penjumlahan = a + b  # Tambah\n",
        "pengurangan = a - b  # Kurang\n",
        "perkalian = a * b    # Kali\n",
        "pembagian = a / b\t# Bagi (hasil float)\n",
        "pembagian_bulat = a // b # Bagi (bulat)\n",
        "modulus = a % b\t# Sisa bagi\n",
        "pangkat = a ** b\t# Pemangkatan\n",
        "\n",
        "print(\"OPERASI ARITMETIKA\")\n",
        "print(\"a =\", a, \", b =\", b)\n",
        "print(\"Penjumlahan =\", penjumlahan)\n",
        "print(\"Pengurangan =\", pengurangan)\n",
        "print(\"Perkalian =\", perkalian)\n",
        "print(\"Pembagian =\", pembagian)\n",
        "print(\"Pembagian Bulat =\", pembagian_bulat)\n",
        "print(\"Modulus =\", modulus)\n",
        "print(\"Pangkat =\", pangkat)\n",
        "\n",
        "print('\\noperasi aritmatika pada python memiliki proses yang sama dengan bahasa yang lain \\ntetapi dengan kemudahan pada pyton yang tidak memerlukan \\nadanya deklarasi sehingga data numreic dapat langsung dihitung.')\n",
        "print('Dengan menggunakan operator yang tersedia hal ini membuat kita bisa melakukan \\npenjumlahan, pengurangan, perkalian, pembagian, pemangkatan, \\ndan lain sebagainya.')"
      ],
      "metadata": {
        "id": "BmY-3yyxlmhn",
        "outputId": "0c4e5607-fd05-4f56-9db0-9a9b7eeeedcd",
        "colab": {
          "base_uri": "https://localhost:8080/"
        }
      },
      "execution_count": null,
      "outputs": [
        {
          "output_type": "stream",
          "name": "stdout",
          "text": [
            "OPERASI ARITMETIKA\n",
            "a = 11 , b = 3\n",
            "Penjumlahan = 14\n",
            "Pengurangan = 8\n",
            "Perkalian = 33\n",
            "Pembagian = 3.6666666666666665\n",
            "Pembagian Bulat = 3\n",
            "Modulus = 2\n",
            "Pangkat = 1331\n",
            "\n",
            "operasi aritmatika pada python memiliki proses yang sama dengan bahasa yang lain \n",
            "tetapi dengan kemudahan pada pyton yang tidak memerlukan \n",
            "adanya deklarasi sehingga data numreic dapat langsung dihitung\n",
            "dengan menggunakan operator yang tersedia hal ini membuat kita bisa melakukan \n",
            "penjumlahan, pengurangan, perkalian, pembagian, pemangkatan, \n",
            "dan lain sebagainya.\n"
          ]
        }
      ]
    },
    {
      "cell_type": "code",
      "source": [
        "#Operasi Logika 57: # and, or, not\n",
        "\n",
        "x = True\n",
        "y = False\n",
        "\n",
        "logika_and = x and y\n",
        "logika_or = x or y\n",
        "logika_not_x = not x\n",
        "\n",
        "print(\"\\nOPERASI LOGIKA\")\n",
        "print(\"x =\", x, \", y =\", y)\n",
        "print(\"x and y =\", logika_and)\n",
        "print(\"x or y =\", logika_or)\n",
        "print(\"not x =\", logika_not_x)\n",
        "\n",
        "print('\\nOperasi Logika sendiri di pyton juga sama, kita bisa memanfaatkan opeator \\nyang tersedia untuk melakukan operasi logika seperti and, or, dan not.')\n"
      ],
      "metadata": {
        "id": "KB2POb1Mpi0r",
        "outputId": "9cedc073-5811-4fe9-b576-a5cbd7a0db88",
        "colab": {
          "base_uri": "https://localhost:8080/"
        }
      },
      "execution_count": null,
      "outputs": [
        {
          "output_type": "stream",
          "name": "stdout",
          "text": [
            "\n",
            "OPERASI LOGIKA\n",
            "x = True , y = False\n",
            "x and y = False\n",
            "x or y = True\n",
            "not x = False\n",
            "\n",
            "Operasi Logika sendiri di pyton juga sama, kita bisa memanfaatkan opeator \n",
            "yang tersedia untuk melakukan operasi logika seperti and, or, dan not.\n"
          ]
        }
      ]
    },
    {
      "cell_type": "code",
      "source": [
        "#Operasi Perbandingan\n",
        "# Menghasilkan nilai Boolean (True/False)\n",
        "lebih_besar = a > b\n",
        "kurang_dari = a < b\n",
        "sama_dengan = a == b\n",
        "tidak_sama = a != b\n",
        "lebih_besar_sama = a >= b\n",
        "kurang_sama = a <= b\n",
        "\n",
        "print(\"\\nOPERASI PERBANDINGAN\")\n",
        "print(\"a > b =\", lebih_besar)\n",
        "print(\"a < b =\", kurang_dari)\n",
        "print(\"a == b =\", sama_dengan)\n",
        "print(\"a != b =\", tidak_sama)\n",
        "print(\"a >= b =\", lebih_besar_sama)\n",
        "print(\"a <= b =\", kurang_sama)\n",
        "\n",
        "print('\\n Operasi perbandingan digunakan untuk membandingkan dua data dan menampilkannya dalam data boolean')"
      ],
      "metadata": {
        "id": "DcpGphBGtIrB",
        "outputId": "82350574-e2ca-4468-d3ef-dcf8f655c876",
        "colab": {
          "base_uri": "https://localhost:8080/"
        }
      },
      "execution_count": null,
      "outputs": [
        {
          "output_type": "stream",
          "name": "stdout",
          "text": [
            "\n",
            "OPERASI PERBANDINGAN\n",
            "a > b = True\n",
            "a < b = False\n",
            "a == b = False\n",
            "a != b = True\n",
            "a >= b = True\n",
            "a <= b = False\n",
            "\n",
            " Operasi perbandingan digunakan untuk membandingkan dua data dan menampilkannya dalam data boolean\n"
          ]
        }
      ]
    },
    {
      "cell_type": "code",
      "source": [
        "#Contoh penggunaan di dalam percabangan\n",
        "if a > b and b > 0:\n",
        "  print(\"\\nKondisi terpenuhi: a lebih besar dari b, dan b masih positif.\")\n",
        "else:\n",
        "  print(\"\\nKondisi tidak terpenuhi atau b <= 0.\")\n",
        "\n",
        "print('')"
      ],
      "metadata": {
        "id": "8yDU-2xuqzX8",
        "outputId": "3a9b5814-5f7b-49d4-dff6-db7eba9f72af",
        "colab": {
          "base_uri": "https://localhost:8080/"
        }
      },
      "execution_count": null,
      "outputs": [
        {
          "output_type": "stream",
          "name": "stdout",
          "text": [
            "\n",
            "Kondisi terpenuhi: a lebih besar dari b, dan b masih positif.\n",
            "\n"
          ]
        }
      ]
    },
    {
      "cell_type": "code",
      "source": [
        "#IF Sederhana\n",
        "nilai = 81\n",
        "\n",
        "print(\"Contoh IF Sederhana:\")\n",
        "if nilai > 80:\n",
        "  print(\"Selamat! Anda lulus dengan nilai tinggi.\\n\")\n",
        "\n",
        "print('\\n if sederhana membuat suatu program hanya dapat berlanjut jika syarat terpenuhi')"
      ],
      "metadata": {
        "id": "_rS-3VCayxkQ",
        "outputId": "1c687232-20fa-4aea-98fe-6650f73192f6",
        "colab": {
          "base_uri": "https://localhost:8080/"
        }
      },
      "execution_count": 5,
      "outputs": [
        {
          "output_type": "stream",
          "name": "stdout",
          "text": [
            "Contoh IF Sederhana:\n",
            "Selamat! Anda lulus dengan nilai tinggi.\n",
            "\n",
            "\n",
            " if sederhana membuat suatu program hanya dapat berlanjut jika syarat terpenuhi\n"
          ]
        }
      ]
    },
    {
      "cell_type": "code",
      "source": [
        "#IF-ELSE\n",
        "\n",
        "umur = 17\n",
        "print(\"Contoh IF-ELSE:\")\n",
        "\n",
        "if umur >= 18:\n",
        "\tprint(\"Anda sudah cukup umur untuk mendapatkan SIM.\")\n",
        "else:\n",
        "\tprint(\"Anda belum cukup umur untuk mendapatkan SIM.\\n\")\n",
        "\n",
        "print('\\nSama saja dengan program sebelumnya tetapi kali ini apabila suatu syarat tidak terpenuhi\\n maka program akan menjalankan hasil yang lainnya')"
      ],
      "metadata": {
        "id": "GT4_oXNGzGQp",
        "outputId": "0b5ef896-647c-43de-a761-4a532f674c7a",
        "colab": {
          "base_uri": "https://localhost:8080/"
        }
      },
      "execution_count": 7,
      "outputs": [
        {
          "output_type": "stream",
          "name": "stdout",
          "text": [
            "Contoh IF-ELSE:\n",
            "Anda belum cukup umur untuk mendapatkan SIM.\n",
            "\n",
            "\n",
            "Sama saja dengan program sebelumnya tetapi kali ini apabila suatu syarat tidak terpenuhi\n",
            " maka program akan menjalankan hasil yang lainnya\n"
          ]
        }
      ]
    },
    {
      "cell_type": "code",
      "source": [
        "#IF-ELIF-ELSE\n",
        "\n",
        "hari = \"Rabu\"\n",
        "\n",
        "print(\"Contoh IF-ELIF-ELSE:\")\n",
        "if hari == \"Senin\":\n",
        "\tprint(\"Hari Senin - Saatnya kembali bekerja!\")\n",
        "elif hari == \"Selasa\":\n",
        "\tprint(\"Hari Selasa - Jadwal rapat mingguan.\")\n",
        "elif hari == \"Rabu\":\n",
        "\tprint(\"Hari Rabu - Ada diskon di beberapa toko.\")\n",
        "else:\n",
        "\tprint(\"Hari lainnya - Atur jadwalmu dengan baik.\\n\")\n",
        "\n",
        "print('\\nkali ini if memiliki banyak syarat secara berurutan, sehinggga kondisi yang\\nada akan dicek secara beruntun dari beberapa syarat yang ada.')"
      ],
      "metadata": {
        "id": "M4_M1PbCzxFC",
        "outputId": "09c00930-da24-4f04-bbdb-d14e9a3bcb24",
        "colab": {
          "base_uri": "https://localhost:8080/"
        }
      },
      "execution_count": 8,
      "outputs": [
        {
          "output_type": "stream",
          "name": "stdout",
          "text": [
            "Contoh IF-ELIF-ELSE:\n",
            "Hari Rabu - Ada diskon di beberapa toko.\n",
            "\n",
            "kali ini if memiliki banyak syarat secara berurutan, sehinggga kondisi yang\n",
            "ada akan dicek secara beruntun dari beberapa syarat yang ada.\n"
          ]
        }
      ]
    },
    {
      "cell_type": "code",
      "source": [
        "#IF Bersarang (Nested IF)\n",
        "# Kondisi di dalam kondisi, biasa digunakan jika kita perlu 42: # memeriksa sub-kondisi setelah kondisi pertama terpenuhi. 43:\n",
        "suhu = 35\n",
        "print(\"Contoh IF Bersarang (Nested IF):\")\n",
        "if suhu > 30:\n",
        "  print(\"Cuaca cukup panas.\")\n",
        "  if suhu > 40:\n",
        "\t  print(\"Bahkan sangat terik! Disarankan banyak minum air.\")\n",
        "  else:\n",
        "    print(\"Masih relatif normal, tapi tetap jaga kesehatan.\")\n",
        "else:\n",
        "\t  print(\"Cuaca sepertinya cukup sejuk.\\n\")\n",
        "\n",
        "print('\\nkondisi yang sudah melewati syarat pertama akan dicek lagi dengan syarat \\nberbeda apabila memenuhi syarat pertama')"
      ],
      "metadata": {
        "id": "sMD1t-fT1K8o",
        "outputId": "056d2483-f6a9-44dd-93c1-53a27891476b",
        "colab": {
          "base_uri": "https://localhost:8080/"
        }
      },
      "execution_count": 9,
      "outputs": [
        {
          "output_type": "stream",
          "name": "stdout",
          "text": [
            "Contoh IF Bersarang (Nested IF):\n",
            "Cuaca cukup panas.\n",
            "Masih relatif normal, tapi tetap jaga kesehatan.\n",
            "\n",
            "kondisi yang sudah melewati syarat pertama akan dicek lagi dengan syarat \n",
            "berbeda apabila memenuhi syarat pertama\n"
          ]
        }
      ]
    },
    {
      "cell_type": "code",
      "source": [
        "#Menggabungkan Percabangan dengan Operasi Logika\n",
        "\n",
        "nilai_teori = 75\n",
        "nilai_praktik = 80\n",
        "\n",
        "print(\"Contoh IF dengan Operasi Logika AND/OR:\")\n",
        "if nilai_teori >= 70 and nilai_praktik >= 70:\n",
        "  print(\"Anda lulus karena nilai teori dan praktik memadai.\")\n",
        "elif nilai_teori < 70 and nilai_praktik < 70:\n",
        "  print(\"Anda perlu meningkatkan nilai teori dan praktik.\")\n",
        "elif nilai_teori < 70:\n",
        "  print(\"Anda perlu meningkatkan nilai teori.\")\n",
        "else:\n",
        "  print(\"Anda perlu meningkatkan nilai praktik.\\n\")"
      ],
      "metadata": {
        "id": "kmM7n2nZ16Ey",
        "outputId": "6ed34507-c73b-4826-9583-c32b3d3f87a5",
        "colab": {
          "base_uri": "https://localhost:8080/"
        }
      },
      "execution_count": null,
      "outputs": [
        {
          "output_type": "stream",
          "name": "stdout",
          "text": [
            "Contoh IF dengan Operasi Logika AND/OR:\n",
            "Anda lulus karena nilai teori dan praktik memadai.\n"
          ]
        }
      ]
    },
    {
      "cell_type": "code",
      "source": [
        "#Penggunaan If Ternary (atau Conditional Expression)\n",
        "\n",
        "angka = -5\n",
        "print(\"Contoh If Ternary (Conditional Expression):\")\n",
        "status = \"Positif\" if angka > 0 else \"Negatif atau Nol\"\n",
        "print(\"Angka =\", angka, \"=>\", status)\n",
        "print('\\nbentuk lebih ringkas dari is biasa')"
      ],
      "metadata": {
        "id": "1k6xzhdN4S7a",
        "outputId": "94e76d20-0ac4-440a-c115-6bfdd6e4d595",
        "colab": {
          "base_uri": "https://localhost:8080/"
        }
      },
      "execution_count": 12,
      "outputs": [
        {
          "output_type": "stream",
          "name": "stdout",
          "text": [
            "Contoh If Ternary (Conditional Expression):\n",
            "Angka = -5 => Negatif atau Nol\n",
            "\n",
            "bentuk lebih ringkas dari is biasa\n"
          ]
        }
      ]
    },
    {
      "cell_type": "code",
      "source": [
        "#FOR Loop dengan range()\n",
        "print(\"1) FOR loop dengan range()\")\n",
        "for i in range(5):\n",
        "  print(\"Perulangan ke-\", i)\n",
        "\n",
        "print('\\nloop akan membuat program mengulang sebanyak range yang ditentukan')"
      ],
      "metadata": {
        "id": "mGJIKLfc8vtv",
        "outputId": "0eb07fb7-23c9-42b5-9a45-2a9fae55c055",
        "colab": {
          "base_uri": "https://localhost:8080/"
        }
      },
      "execution_count": null,
      "outputs": [
        {
          "output_type": "stream",
          "name": "stdout",
          "text": [
            "1) FOR loop dengan range()\n",
            "Perulangan ke- 0\n",
            "Perulangan ke- 1\n",
            "Perulangan ke- 2\n",
            "Perulangan ke- 3\n",
            "Perulangan ke- 4\n"
          ]
        }
      ]
    },
    {
      "cell_type": "code",
      "source": [
        "# FOR Loop untuk mengiterasi List\n",
        "print(\"2) FOR loop mengiterasi list\")\n",
        "buah = [\"apel\", \"mangga\", \"jeruk\", \"pisang\"]\n",
        "for item in buah:\n",
        "\tprint(\"Buah:\", item)\n",
        "\n",
        "print('\\nakan mengulang hingga sebanyak banyak data pada list')"
      ],
      "metadata": {
        "id": "hSHk97M19Clm",
        "outputId": "e14b8b4d-ef10-41a0-dd06-3240809231b4",
        "colab": {
          "base_uri": "https://localhost:8080/"
        }
      },
      "execution_count": 13,
      "outputs": [
        {
          "output_type": "stream",
          "name": "stdout",
          "text": [
            "2) FOR loop mengiterasi list\n",
            "Buah: apel\n",
            "Buah: mangga\n",
            "Buah: jeruk\n",
            "Buah: pisang\n",
            "\n",
            "\n"
          ]
        }
      ]
    },
    {
      "cell_type": "code",
      "source": [
        "# WHILE Loop\n",
        "print(\"3) WHILE loop sederhana\")\n",
        "count = 0\n",
        "while count < 5:\n",
        "\tprint(\"count =\", count)\n",
        "\tcount += 1 # increment\n",
        "print('\\n pengulangan akan terjadi hingga nilai memnuhi syarat')"
      ],
      "metadata": {
        "id": "B9siKuNx9R2n",
        "outputId": "113bbb73-0083-4739-dbc8-b71d9741f8e9",
        "colab": {
          "base_uri": "https://localhost:8080/"
        }
      },
      "execution_count": 17,
      "outputs": [
        {
          "output_type": "stream",
          "name": "stdout",
          "text": [
            "3) WHILE loop sederhana\n",
            "count = 0\n",
            "count = 1\n",
            "count = 2\n",
            "count = 3\n",
            "count = 4\n",
            "\n",
            " pengulangan akan terjadi hingga nilai memnuhu syarat\n"
          ]
        }
      ]
    },
    {
      "cell_type": "code",
      "source": [
        "#BREAK pada Loop\n",
        "print(\"4) BREAK di dalam loop\")\n",
        "for i in range(10):\n",
        "  if i == 4:\n",
        "    print(\"Loop dihentikan pada i =\", i)\n",
        "    break\n",
        "  print(\"i =\", i)\n",
        "print('\\nlooping kali ini akan berhenti ketika syarat terpenuhi')"
      ],
      "metadata": {
        "id": "ydxIyKPN9k4P",
        "outputId": "8274fc1b-b378-4b5b-e0c3-a48f4f8fd63f",
        "colab": {
          "base_uri": "https://localhost:8080/"
        }
      },
      "execution_count": 25,
      "outputs": [
        {
          "output_type": "stream",
          "name": "stdout",
          "text": [
            "4) BREAK di dalam loop\n",
            "i = 0\n",
            "i = 1\n",
            "i = 2\n",
            "i = 3\n",
            "Loop dihentikan pada i = 4\n",
            "\n",
            "looping kali ini akan berhenti ketika syarat terpenuhi\n"
          ]
        }
      ]
    },
    {
      "cell_type": "code",
      "source": [
        "# CONTINUE pada Loop\n",
        "print(\"5) CONTINUE di dalam loop\")\n",
        "for i in range(5):\n",
        "    if i == 2:\n",
        "      print(\"Lewati i =\", i, \"dengan continue\")\n",
        "      continue\n",
        "    print(\"i =\", i)\n",
        "# Saat i = 2, baris print(\"i =\", i) tidak akan dieksekusi\n",
        "print('\\nContinue digunakan untuk melewatkan sisa kode dalam iterasi saat ini dan langsung lanjut \\nke iterasi berikutnya.Berbeda dengan break yang menghentikan perulangan, \\ncontinue tidak menghentikan perulangan.')"
      ],
      "metadata": {
        "id": "9jYduyiq9-v7",
        "outputId": "6a4e0bc2-2704-4f51-f787-9b0be313eb8d",
        "colab": {
          "base_uri": "https://localhost:8080/"
        }
      },
      "execution_count": 30,
      "outputs": [
        {
          "output_type": "stream",
          "name": "stdout",
          "text": [
            "5) CONTINUE di dalam loop\n",
            "i = 0\n",
            "i = 1\n",
            "Lewati i = 2 dengan continue\n",
            "i = 3\n",
            "i = 4\n",
            "\n",
            "Continue digunakan untuk melewatkan sisa kode dalam iterasi saat ini dan langsung lanjut \n",
            "ke iterasi berikutnya.Berbeda dengan break yang menghentikan perulangan, \n",
            "continue tidak menghentikan perulangan.\n"
          ]
        }
      ]
    },
    {
      "cell_type": "code",
      "source": [
        "#NESTED Loop (Loop Bersarang)\n",
        "print(\"6) NESTED loop\")\n",
        "for i in range(3):\t# Loop luar (outer loop)\n",
        "  for j in range(2):\t# Loop dalam (inner loop)\n",
        "\t  \tprint(f\"i={i}, j={j}\")\n",
        "# Pada setiap iterasi i, loop j akan berjalan dari 0 sampai 1\n",
        "print('\\nmerupakan bentuk loop yang ada di dalam loop lainnya inner loop akan \\ndiselesaikan terlebih dahulu, sebelum kembali mengulang outer loop')"
      ],
      "metadata": {
        "id": "xaT4F5o0BBTM",
        "outputId": "e031853e-6fd8-4604-8147-1e8d8645ec2e",
        "colab": {
          "base_uri": "https://localhost:8080/"
        }
      },
      "execution_count": 33,
      "outputs": [
        {
          "output_type": "stream",
          "name": "stdout",
          "text": [
            "6) NESTED loop\n",
            "i=0, j=0\n",
            "i=0, j=1\n",
            "i=1, j=0\n",
            "i=1, j=1\n",
            "i=2, j=0\n",
            "i=2, j=1\n",
            "\n",
            "merupakan bentuk loop yang ada di dalam loop lainnya inner loop akan \n",
            "diselesaikan terlebih dahulu, sebelum kembali mengulang outer loop\n"
          ]
        }
      ]
    },
    {
      "cell_type": "code",
      "source": [
        "#Memanfaatkan ELSE pada Loop\n",
        "print(\"7) ELSE pada loop for/while\")\n",
        "# Python memiliki fitur unik: blok else pada loop\n",
        "# Blok else akan dieksekusi jika loop selesai tanpa di-break. 66:\n",
        "for x in range(3):\n",
        "\tprint(\"x =\", x)\n",
        "else:\n",
        "\tprint(\"Loop for telah selesai tanpa break.\\n\")\n",
        "y = 0\n",
        "while y < 3:\n",
        "  print(\"y =\", y)\n",
        "  y += 1\n",
        "else:\n",
        "  print(\"Loop while telah selesai tanpa break.\\n\")\n",
        "\n",
        "print('\\ndengan memanfaatkan else maka pengulangan for yangg berbeda dapat dilanjutkan tanpa ada break')"
      ],
      "metadata": {
        "id": "6G9GYv8hDS5P",
        "outputId": "a4e487b6-7344-4be0-c655-4571dc244ffd",
        "colab": {
          "base_uri": "https://localhost:8080/"
        }
      },
      "execution_count": 34,
      "outputs": [
        {
          "output_type": "stream",
          "name": "stdout",
          "text": [
            "7) ELSE pada loop for/while\n",
            "x = 0\n",
            "x = 1\n",
            "x = 2\n",
            "Loop for telah selesai tanpa break.\n",
            "\n",
            "y = 0\n",
            "y = 1\n",
            "y = 2\n",
            "Loop while telah selesai tanpa break.\n",
            "\n",
            "\n",
            "dengan memanfaatkan else maka pengulangan for yangg berbeda dapat dilanjutkan tanpa ada break\n"
          ]
        }
      ]
    },
    {
      "cell_type": "code",
      "source": [
        "#PASS sebagai placeholder\n",
        "print(\"8) PASS (placeholder)\")\n",
        "for i in range(3):\n",
        "  if i == 1:\n",
        "    pass # pass tidak melakukan apa-apa, digunakan sebagai placeholder\n",
        "print(\"i =\", i)\n",
        "\n",
        "print ('\\nplaceholder digunakan untuk kita dapat membuat struktur loop dahulu tanpa harus mengisinya dengan logika')"
      ],
      "metadata": {
        "id": "6V8n1bj8EODu",
        "outputId": "053e27fd-2d27-4e5b-db8b-227bb0ea9d06",
        "colab": {
          "base_uri": "https://localhost:8080/"
        }
      },
      "execution_count": 36,
      "outputs": [
        {
          "output_type": "stream",
          "name": "stdout",
          "text": [
            "8) PASS (placeholder)\n",
            "i = 2\n",
            "\n",
            "placeholder digunakan untuk kita dapat membuat struktur loop dahulu tanpa harus mengisinya dengan logika\n"
          ]
        }
      ]
    },
    {
      "cell_type": "code",
      "source": [
        "def calculate_bmi(weight, height):\n",
        "    \"\"\"\n",
        "    Calculate the Body Mass Index (BMI).\n",
        "\n",
        "    Args:\n",
        "        weight (float): Weight in kilograms.\n",
        "        height (float): Height in meters.\n",
        "\n",
        "    Returns:\n",
        "        float: The BMI value.\n",
        "    \"\"\"\n",
        "    return weight / ((height/100) ** 2)\n",
        "\n",
        "def main():\n",
        "    print(\"BMI Calculator\")\n",
        "    try:\n",
        "        weight = float(input(\"Enter your weight (kg): \"))\n",
        "        height = float(input(\"Enter your height (m): \"))\n",
        "\n",
        "        if height <= 0 or weight <= 0:\n",
        "            print(\"Height and weight must be positive values.\")\n",
        "            return\n",
        "\n",
        "        bmi = calculate_bmi(weight, height)\n",
        "        print(f\"Your BMI is: {bmi:.2f}\")\n",
        "\n",
        "        if bmi < 18.5:\n",
        "            print(\"Category: Underweight\")\n",
        "        elif 18.5 <= bmi < 24.9:\n",
        "            print(\"Category: Normal weight\")\n",
        "        elif 25 <= bmi < 29.9:\n",
        "            print(\"Category: Overweight\")\n",
        "        else:\n",
        "            print(\"Category: Obesity\")\n",
        "\n",
        "    except ValueError:\n",
        "        print(\"Please enter valid numerical values.\")\n",
        "\n",
        "if __name__ == \"__main__\":\n",
        "    main()\n"
      ],
      "metadata": {
        "id": "G06smy4pznyy",
        "outputId": "e86f0199-7306-4f32-f97f-ec8c07dd4d11",
        "colab": {
          "base_uri": "https://localhost:8080/"
        }
      },
      "execution_count": null,
      "outputs": [
        {
          "output_type": "stream",
          "name": "stdout",
          "text": [
            "BMI Calculator\n",
            "Enter your weight (kg): 50\n",
            "Enter your height (m): 157\n",
            "Your BMI is: 20.28\n",
            "Category: Normal weight\n"
          ]
        }
      ]
    },
    {
      "cell_type": "code",
      "source": [
        "def is_odd(number):\n",
        "    \"\"\"Check if a number is odd.\"\"\"\n",
        "    return number % 2 != 0\n",
        "\n",
        "def is_even(number):\n",
        "    \"\"\"Check if a number is even.\"\"\"\n",
        "    return number % 2 == 0\n",
        "\n",
        "def is_prime(number):\n",
        "    \"\"\"\n",
        "    Check if a number is prime.\n",
        "\n",
        "    Args:\n",
        "        number (int): The number to check.\n",
        "\n",
        "    Returns:\n",
        "        bool: True if the number is prime, False otherwise.\n",
        "    \"\"\"\n",
        "    if number < 2:\n",
        "        return False\n",
        "    for i in range(2, int(number ** 0.5) + 1):\n",
        "        if number % i == 0:\n",
        "            return False\n",
        "    return True\n",
        "\n",
        "def main():\n",
        "    print(\"Number Type Checker\")\n",
        "    try:\n",
        "        number = int(input(\"Enter an integer: \"))\n",
        "\n",
        "        if is_even(number):\n",
        "            print(f\"{number} is an even number.\")\n",
        "        else:\n",
        "            print(f\"{number} is an odd number.\")\n",
        "\n",
        "        if is_prime(number):\n",
        "            print(f\"{number} is also a prime number.\")\n",
        "        else:\n",
        "            print(f\"{number} is not a prime number.\")\n",
        "\n",
        "    except ValueError:\n",
        "        print(\"Please enter a valid integer.\")\n",
        "\n",
        "if __name__ == \"__main__\":\n",
        "    main()\n"
      ],
      "metadata": {
        "id": "ey4n0ffW1SKZ",
        "outputId": "1546510e-f49b-4405-a4f2-30532cf56d7f",
        "colab": {
          "base_uri": "https://localhost:8080/"
        }
      },
      "execution_count": null,
      "outputs": [
        {
          "output_type": "stream",
          "name": "stdout",
          "text": [
            "Number Type Checker\n",
            "Enter an integer: 1313\n",
            "1313 is an odd number.\n",
            "1313 is not a prime number.\n"
          ]
        }
      ]
    }
  ],
  "metadata": {
    "colab": {
      "name": "Welcome To Colab",
      "toc_visible": true,
      "provenance": [],
      "include_colab_link": true
    },
    "kernelspec": {
      "display_name": "Python 3",
      "name": "python3"
    }
  },
  "nbformat": 4,
  "nbformat_minor": 0
}