{
  "cells": [
    {
      "cell_type": "markdown",
      "metadata": {
        "id": "view-in-github",
        "colab_type": "text"
      },
      "source": [
        "<a href=\"https://colab.research.google.com/github/va11h411a/Trying_Python_PBO_2/blob/main/Jobsheet_01.ipynb\" target=\"_parent\"><img src=\"https://colab.research.google.com/assets/colab-badge.svg\" alt=\"Open In Colab\"/></a>"
      ]
    },
    {
      "cell_type": "code",
      "source": [
        "#1 Number (int, float, complex)\n",
        "\n",
        "#int/integer\n",
        "angka_int = 1\n",
        "print(\"angka int=\", angka_int, \"==\", type(angka_int))\n",
        "print('integer merupakan sebuah jenis data yang berisikan bilangan Bulat')\n",
        "print('')\n",
        "\n",
        "#float\n",
        "angka_float  = 1.1\n",
        "print(\"angka float\", angka_float, \"==\", type(angka_float))\n",
        "print('integer merupakan sebuah jenis data yang berisikan bilangan decimal')\n",
        "print('')\n",
        "\n",
        "#complex\n",
        "angka_complex = 5 + 2j\n",
        "print('angka complex', angka_complex, '==', type(angka_complex))\n",
        "print('integer merupakan sebuah jenis data yang berisikan bilangan rill dan Imajiner')\n",
        "print('')\n",
        "\n"
      ],
      "metadata": {
        "id": "OgNjLiRfQdB9",
        "outputId": "cca54ab8-e80f-4370-dd5f-1cf0978ed11a",
        "colab": {
          "base_uri": "https://localhost:8080/"
        }
      },
      "execution_count": 13,
      "outputs": [
        {
          "output_type": "stream",
          "name": "stdout",
          "text": [
            "angka int= 1 == <class 'int'>\n",
            "integer merupakan sebuah jenis data yang berisikan bilangan Bulat\n",
            "\n",
            "angka float 1.1 == <class 'float'>\n",
            "integer merupakan sebuah jenis data yang berisikan bilangan decimal\n",
            "\n",
            "angka complex (5+2j) == <class 'complex'>\n",
            "integer merupakan sebuah jenis data yang berisikan bilangan rill dan Imajiner\n",
            "\n"
          ]
        }
      ]
    }
  ],
  "metadata": {
    "colab": {
      "name": "Welcome To Colab",
      "toc_visible": true,
      "provenance": [],
      "include_colab_link": true
    },
    "kernelspec": {
      "display_name": "Python 3",
      "name": "python3"
    }
  },
  "nbformat": 4,
  "nbformat_minor": 0
}