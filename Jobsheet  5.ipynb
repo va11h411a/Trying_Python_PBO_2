{
  "nbformat": 4,
  "nbformat_minor": 0,
  "metadata": {
    "colab": {
      "provenance": [],
      "authorship_tag": "ABX9TyMHvranH59rzKNoIXII61Ej",
      "include_colab_link": true
    },
    "kernelspec": {
      "name": "python3",
      "display_name": "Python 3"
    },
    "language_info": {
      "name": "python"
    }
  },
  "cells": [
    {
      "cell_type": "markdown",
      "metadata": {
        "id": "view-in-github",
        "colab_type": "text"
      },
      "source": [
        "<a href=\"https://colab.research.google.com/github/va11h411a/Trying_Python_PBO_2/blob/main/Jobsheet%20%205.ipynb\" target=\"_parent\"><img src=\"https://colab.research.google.com/assets/colab-badge.svg\" alt=\"Open In Colab\"/></a>"
      ]
    },
    {
      "cell_type": "markdown",
      "source": [
        "# Praktikum 1: Polimorfisme dengan Inheritance dan Overriding"
      ],
      "metadata": {
        "id": "FjEliQCedXfh"
      }
    },
    {
      "cell_type": "code",
      "execution_count": null,
      "metadata": {
        "id": "A5kWudsWcnrt",
        "colab": {
          "base_uri": "https://localhost:8080/"
        },
        "outputId": "d5f2b7d4-a4d0-4528-b62c-bfad20b72ef0"
      },
      "outputs": [
        {
          "output_type": "stream",
          "name": "stdout",
          "text": [
            "\n",
            "Aksi Burung:\n",
            "-- Aksi untu Elang Jawa --\n",
            "Elang Jawa terbang tinggi melayang di angkasa\n",
            "Elang Jawa berteriak nyaring!\n",
            "---------------\n",
            "-- Aksi untu Pipit Gereja --\n",
            "Pipit Gereja terbang dengan cara umum\n",
            "Pipit Gereja mengeluarkan suara burung\n",
            "---------------\n",
            "-- Aksi untu Burung Miterius --\n",
            "Burung Miterius terbang dengan cara umum\n",
            "Burung Miterius mengeluarkan suara burung\n",
            "---------------\n"
          ]
        }
      ],
      "source": [
        "#Kelas Induk\n",
        "class Burung:\n",
        "  def __init__(self, nama):\n",
        "    self.nama = nama\n",
        "\n",
        "  def terbang(self):\n",
        "    print(f\"{self.nama} terbang dengan cara umum\")\n",
        "\n",
        "  def bersuara(self):\n",
        "    print(f\"{self.nama} mengeluarkan suara burung\")\n",
        "\n",
        "#Kelas anak 1\n",
        "class Elang(Burung):\n",
        "  def __init__(self, nama, rentang_sayap):\n",
        "    super().__init__(nama)\n",
        "    self.rentang_sayap = rentang_sayap\n",
        "\n",
        "  def terbang(self):\n",
        "    print(f\"{self.nama} terbang tinggi melayang di angkasa\")\n",
        "\n",
        "  def bersuara(self):\n",
        "    print(f\"{self.nama} berteriak nyaring!\")\n",
        "\n",
        "#Kelas anak 2\n",
        "class Pipit(Burung):\n",
        "  def __init__(self, nama, warna_bulu):\n",
        "    super().__init__(nama)\n",
        "    self.warna_bulu = warna_bulu\n",
        "\n",
        "    def terbang (self):\n",
        "      print(f\"{self.nama} terbang cepat di antara perpohonan\")\n",
        "\n",
        "    def bersuara(self):\n",
        "      print(f\"{self.nama} berkicau merdu: cit cit!\")\n",
        "\n",
        "#fungsi Polimorfisme\n",
        "\n",
        "def demontrasi_aksi_burung(daftar_burung):\n",
        "  print(\"\\nAksi Burung:\")\n",
        "  for burung in daftar_burung:\n",
        "    print(f\"-- Aksi untu {burung.nama} --\")\n",
        "\n",
        "    #panggilan metode yang sama, tapi beda perilaku berbeda tergantung objek\n",
        "\n",
        "    burung.terbang()\n",
        "    burung.bersuara()\n",
        "    print(\"-\"*15)\n",
        "\n",
        "  #kodeutama\n",
        "if __name__ == \"__main__\":\n",
        "  elang_jawa = Elang(\"Elang Jawa\", 1.5)\n",
        "  Pipit_gereja = Pipit(\"Pipit Gereja\", \"coklat\")\n",
        "  burung_aneh = Burung(\"Burung Miterius\")\n",
        "\n",
        "  koleksi_burung = [elang_jawa, Pipit_gereja, burung_aneh]\n",
        "\n",
        "  demontrasi_aksi_burung(koleksi_burung)"
      ]
    },
    {
      "cell_type": "markdown",
      "source": [
        "# Praktikum 02: Polimorfisme dengan Duck Typing"
      ],
      "metadata": {
        "id": "ChS1xCT3hsm8"
      }
    },
    {
      "cell_type": "code",
      "source": [
        "class Kucing:\n",
        "  def bersuara(self):\n",
        "    print (\"Kucing: Meow!\")\n",
        "\n",
        "class Anjing:\n",
        "  def bersuara(self):\n",
        "    print (\"Anjing: Guk guk!\")\n",
        "\n",
        "class Bebek:\n",
        "  def bersuara(self):\n",
        "    print (\"Bebek: Kwek kwek!\")\n",
        "\n",
        "class Mobil:\n",
        "  def Jalankan(self):\n",
        "    print (\"Mobil: Brummmm!\")\n",
        "\n",
        "def buat_suara (objek_yang_bisa_bersuara):\n",
        "  try:\n",
        "    #memanggil metode 'bersuara' jika ada\n",
        "    objek_yang_bisa_bersuara.bersuara()\n",
        "  except AttributeError:\n",
        "    #Menangani jika ibjek tidak punya metode 'bersuara'\n",
        "      print(f\"Objek {type(objek_yang_bisa_bersuara).__name__} tidak bisa bersuara.\")\n",
        "\n",
        "# ---Kode Utama---\n",
        "if __name__ == \"__main__\":\n",
        "  kucing1 = Kucing()\n",
        "  anjing1 = Anjing()\n",
        "  bebek1 = Bebek()\n",
        "  mobil1 = Mobil()\n",
        "\n",
        "  daftar_objek = [kucing1, anjing1, bebek1, mobil1]\n",
        "\n",
        "  print (\"Demonstrasi Duck Typing:\")\n",
        "  for item in daftar_objek:\n",
        "    buat_suara(item)"
      ],
      "metadata": {
        "colab": {
          "base_uri": "https://localhost:8080/"
        },
        "id": "JpStJpzHhz1E",
        "outputId": "9a467604-2c35-46dd-ec83-7efef756b9f1"
      },
      "execution_count": null,
      "outputs": [
        {
          "output_type": "stream",
          "name": "stdout",
          "text": [
            "Demonstrasi Duck Typing:\n",
            "Kucing: Meow!\n",
            "Anjing: Guk guk!\n",
            "Bebek: Kwek kwek!\n",
            "Objek Mobil tidak bisa bersuara.\n"
          ]
        }
      ]
    },
    {
      "cell_type": "markdown",
      "source": [
        "# Praktikum 03: Simulasi Overloading dalam Metode Kelas dengan *args"
      ],
      "metadata": {
        "id": "vSWtzJGokhBV"
      }
    },
    {
      "cell_type": "code",
      "source": [
        "class KalkulatorSederhana:\n",
        "  def __init__(self, nama=\"Kalkulator\"):\n",
        "    self.nama = nama\n",
        "    print(f\"{self.nama} siap digunakan.\")\n",
        "\n",
        "  def tambah(self, *args):\n",
        "    print (f\"\\nMemanggil metode tambah dengan argumen: {args}\")\n",
        "    if not args:\n",
        "      print(\"Tidak ada angka untuk dijumlahkan.\")\n",
        "      return 0\n",
        "\n",
        "    total = 0\n",
        "    valid_input = True\n",
        "    for angka in args:\n",
        "      if isinstance(angka, (int, float)):\n",
        "        total += angka\n",
        "      else:\n",
        "        print(f\"Peringatan: Argumen '{angka}' bukan angka dan akan diabaikan\")\n",
        "        calid_input = False\n",
        "\n",
        "      if valid_input:\n",
        "        print(f\"Hasil penjumlahan: {total}\")\n",
        "      else:\n",
        "        print(f\"hasil penjumlahan (dengan beberapa input diabaikan): {total}\")\n",
        "      return total\n",
        "\n",
        "#---kode utama---\n",
        "if __name__ ==\"__main__\":\n",
        "  calc = KalkulatorSederhana(\"Calc-01\")\n",
        "\n",
        "  print(\"\\n---percobaan Penjumlahan---\")\n",
        "  calc.tambah(5, 10)\n",
        "  calc.tambah(2, 3, 5, 10)\n",
        "  calc.tambah(100)\n",
        "  calc.tambah()\n",
        "  calc.tambah(1, 2, \"tiga\", 4, 5.5)"
      ],
      "metadata": {
        "colab": {
          "base_uri": "https://localhost:8080/"
        },
        "id": "itrzGilDktbU",
        "outputId": "3b2ec1b6-2c4a-4f30-f53a-9393d86840ba"
      },
      "execution_count": null,
      "outputs": [
        {
          "output_type": "stream",
          "name": "stdout",
          "text": [
            "Calc-01 siap digunakan.\n",
            "\n",
            "---percobaan Penjumlahan---\n",
            "\n",
            "Memanggil metode tambah dengan argumen: (5, 10)\n",
            "Hasil penjumlahan: 5\n",
            "\n",
            "Memanggil metode tambah dengan argumen: (2, 3, 5, 10)\n",
            "Hasil penjumlahan: 2\n",
            "\n",
            "Memanggil metode tambah dengan argumen: (100,)\n",
            "Hasil penjumlahan: 100\n",
            "\n",
            "Memanggil metode tambah dengan argumen: ()\n",
            "Tidak ada angka untuk dijumlahkan.\n",
            "\n",
            "Memanggil metode tambah dengan argumen: (1, 2, 'tiga', 4, 5.5)\n",
            "Hasil penjumlahan: 1\n"
          ]
        }
      ]
    },
    {
      "cell_type": "markdown",
      "source": [
        "# Praktikum 04: Simulasi Overloading dalamm Metode Kelas dengan *args dan **kwargs"
      ],
      "metadata": {
        "id": "VwvyHiHdmqrh"
      }
    },
    {
      "cell_type": "code",
      "source": [
        "class DataProcessor:\n",
        "  def __init__ (self, Processor_id):\n",
        "    self.Processor_id = Processor_id\n",
        "    print(f\"Data Processor {self.Processor_id} siap.\")\n",
        "\n",
        "  def process(self, *args, **kwargs):\n",
        "    print(f\"\\n---{self.Processor_id} memproses data---\")\n",
        "\n",
        "    if args:\n",
        "      print (\"Argumen Posisi Diterima:\")\n",
        "      for kunci, nilai in kwargs.items():\n",
        "        print(f\"{kunci}: {nilai} (tipe: {type(nilai). __name__})\")\n",
        "      else:\n",
        "        print(\"Tidak ada argumen kata kunci\")\n",
        "      print (\"-\" *15)\n",
        "\n",
        "#---Kode Utama---\n",
        "\n",
        "if __name__ == \"__main__\":\n",
        "  processor1 = DataProcessor (\"DP-001\")\n",
        "  print (\"\\nPanggilan 1: Tanpa Argumen tambahan\")\n",
        "  processor1.process()\n",
        "\n",
        "  print (\"\\nPanggilan 2: Hanya Argumen Posisi\")\n",
        "  processor1.process(100, \"Status OK\", 99.9, False)\n",
        "\n",
        "  print (\"\\nPanggilan 3: Hanya Argumen Kata kunci\")\n",
        "  processor1.process(user=\"admin\", level = 5, mode=\"verbose\")\n",
        "\n",
        "  print(\"\\nPanggilan 4: Kombinasi argumen posisi dan kata kunci\")\n",
        "  processor1.process(\"Task-A\", \"Task-B\", status=\"Running\", priority=\"High\", thread_id=54321)\n",
        "\n",
        "  print(\"\\nPanggilan 5: Argumen posisi kompleks\")\n",
        "  list_ids = [\"A1\", \"B2\", \"C3\"]\n",
        "  dict_params = {\"timeout\": 30, \"retry\": 3}\n",
        "  processor1.process(list_ids, dict_params, owner=\"system\", enable=True)\n"
      ],
      "metadata": {
        "colab": {
          "base_uri": "https://localhost:8080/"
        },
        "id": "uj1rvhbcmp5l",
        "outputId": "2b7e0e31-ef45-4809-b4c5-98304199326f"
      },
      "execution_count": null,
      "outputs": [
        {
          "output_type": "stream",
          "name": "stdout",
          "text": [
            "Data Processor DP-001 siap.\n",
            "\n",
            "Panggilan 1: Tanpa Argumen tambahan\n",
            "\n",
            "---DP-001 memproses data---\n",
            "\n",
            "Panggilan 2: Hanya Argumen Posisi\n",
            "\n",
            "---DP-001 memproses data---\n",
            "Argumen Posisi Diterima:\n",
            "Tidak ada argumen kata kunci\n",
            "---------------\n",
            "\n",
            "Panggilan 3: Hanya Argumen Kata kunci\n",
            "\n",
            "---DP-001 memproses data---\n",
            "\n",
            "Panggilan 4: Kombinasi argumen posisi dan kata kunci\n",
            "\n",
            "---DP-001 memproses data---\n",
            "Argumen Posisi Diterima:\n",
            "status: Running (tipe: str)\n",
            "priority: High (tipe: str)\n",
            "thread_id: 54321 (tipe: int)\n",
            "Tidak ada argumen kata kunci\n",
            "---------------\n",
            "\n",
            "Panggilan 5: Argumen posisi kompleks\n",
            "\n",
            "---DP-001 memproses data---\n",
            "Argumen Posisi Diterima:\n",
            "owner: system (tipe: str)\n",
            "enable: True (tipe: bool)\n",
            "Tidak ada argumen kata kunci\n",
            "---------------\n"
          ]
        }
      ]
    },
    {
      "cell_type": "markdown",
      "source": [
        "# Praktikum 5"
      ],
      "metadata": {
        "id": "lO1lYWt2qEBZ"
      }
    },
    {
      "cell_type": "code",
      "source": [
        "import math\n",
        "class Bentuk:\n",
        "  def nama_bentuk(self):\n",
        "    return \"Bentuk generik\"\n",
        "\n",
        "  def hitung_luas(self):\n",
        "    raise NotImplementedError(\"Subclass harus mengimplementasikann metode ini\")\n",
        "\n",
        "class Lingkaran (Bentuk):\n",
        "  def __init__(self, radius):\n",
        "    self.radius = radius\n",
        "  def nama_bentuk(self):\n",
        "    return \"Lingkaran\"\n",
        "  def hitung_luas(self):\n",
        "    return math.pi * (self.radius ** 2)\n",
        "\n",
        "class Persegi(Bentuk):\n",
        "  def __init__(self, sisi):\n",
        "    self.sisi = sisi\n",
        "  def nama_bentuk(self):\n",
        "    return \"Persegi\"\n",
        "  def hitung_luas(self):\n",
        "    return self.sisi * self.sisi\n",
        "\n",
        "class TaplakMeja:\n",
        "  def __init__(self, panjang, lebar):\n",
        "    self.panjang = panjang\n",
        "    self.lebar = lebar\n",
        "\n",
        "  def hitung_luas(self):\n",
        "    return self.panjang*self.lebar\n",
        "\n",
        "  def deskripsi(self):\n",
        "    return f\"Taplak Meja {self.panjang}x{self.lebar}\"\n",
        "\n",
        "def tampilkan_info_luas(objek_dengan_luas):\n",
        "  print(\"-\"*20)\n",
        "  try:\n",
        "    luas = objek_dengan_luas.hitung_luas()\n",
        "\n",
        "    try:\n",
        "      nama = objek_dengan_luas.nama_bentuk()\n",
        "    except AttributeError:\n",
        "      nama = type(objek_dengan_luas).__name__\n",
        "\n",
        "    print(f\"Objek: {nama}\")\n",
        "    print(f\"Luas: {luas:.2f}\")\n",
        "\n",
        "  except AttributeError:\n",
        "    print(f\"Objek {type(objek_dengan_luas).__name__}tidak dapat dihitung luasnya(metode tidak ditemukan)\")\n",
        "\n",
        "  except NotImplementedError:\n",
        "    print(f\"Metode 'hitung_luas' belum diimplementasikan untuk {type(objek_dengan_luas).__name__}.\")\n",
        "\n",
        "\n",
        "#Kode Utama\n",
        "if __name__ == \"__main__\":\n",
        "  lingkaran1 = Lingkaran(7)\n",
        "  persegi1 = Persegi(5)\n",
        "  taplak1 = TaplakMeja(1.5, 0.8)\n",
        "\n",
        "  bentuk_dasar = Bentuk()\n",
        "\n",
        "  string_biasa = \"Ini string\"\n",
        "\n",
        "  daftar_item = [lingkaran1, persegi1, taplak1, bentuk_dasar, string_biasa]\n",
        "\n",
        "  print(\"Menampilkan Info Luas (Polimorfosis Campuran)\")\n",
        "  for item in daftar_item:\n",
        "    tampilkan_info_luas(item)"
      ],
      "metadata": {
        "colab": {
          "base_uri": "https://localhost:8080/"
        },
        "id": "x8sG6OnXqGKc",
        "outputId": "23f1c001-d7d3-4279-e9bc-de8ccb17530e"
      },
      "execution_count": null,
      "outputs": [
        {
          "output_type": "stream",
          "name": "stdout",
          "text": [
            "Menampilkan Info Luas (Polimorfosis Campuran)\n",
            "--------------------\n",
            "Objek: Lingkaran\n",
            "Luas: 153.94\n",
            "--------------------\n",
            "Objek: Persegi\n",
            "Luas: 25.00\n",
            "--------------------\n",
            "Objek: TaplakMeja\n",
            "Luas: 1.20\n",
            "--------------------\n",
            "Metode 'hitung_luas' belum diimplementasikan untuk Bentuk.\n",
            "--------------------\n",
            "Objek strtidak dapat dihitung luasnya(metode tidak ditemukan)\n"
          ]
        }
      ]
    },
    {
      "cell_type": "markdown",
      "source": [
        "# Praktikum 6"
      ],
      "metadata": {
        "id": "f1_FcKvbsXEt"
      }
    },
    {
      "cell_type": "code",
      "source": [
        "class Burung:\n",
        "  def __init__(self, nama):\n",
        "    self.nama = nama\n",
        "\n",
        "  def terbang(self):\n",
        "    print(f\"{self.nama} terbang dengan cara umum\")\n",
        "\n",
        "  def bersuara(self):\n",
        "    print(f\"{self.nama} mengeluarkan suara burung\")\n",
        "\n",
        "#Kelas anak 1\n",
        "class Elang(Burung):\n",
        "  def __init__(self, nama, rentang_sayap):\n",
        "    super().__init__(nama)\n",
        "    self.rentang_sayap = rentang_sayap\n",
        "\n",
        "  def terbang(self):\n",
        "    print(f\"{self.nama} terbang tinggi melayang di angkasa\")\n",
        "\n",
        "  def bersuara(self):\n",
        "    print(f\"{self.nama} berteriak nyaring!\")\n",
        "\n",
        "  def berburu(self):\n",
        "    print(f\"{self.nama} sedang mencari mangsa dari ketinggian.\")\n",
        "\n",
        "#Kelas anak 2\n",
        "class Pipit(Burung):\n",
        "  def __init__(self, nama, warna_bulu):\n",
        "    super().__init__(nama)\n",
        "    self.warna_bulu = warna_bulu\n",
        "\n",
        "  # Indentation corrected for methods terbang, bersuara, and membangun_sarang\n",
        "  def terbang (self):\n",
        "    print(f\"{self.nama} terbang cepat di antara perpohonan\")\n",
        "\n",
        "  def bersuara(self):\n",
        "    print(f\"{self.nama} berkicau merdu: cit cit!\")\n",
        "\n",
        "  def membangun_sarang(self):\n",
        "    print(f\"{self.nama}sedang mengumpulkan ranting untuk sarang.\")\n",
        "#fungsi yang memanfaatkan poliformosis dan isintance\n",
        "\n",
        "def interaksi_dengan_burung(burung):\n",
        "  print(f\"\\n ---Berinteraksi dengan {type(Burung).__name__}: {getattr(burung, 'nama', 'Objek tidak dikenal')}--- \")\n",
        "\n",
        "  if isinstance(burung, Burung):\n",
        "    burung.terbang()\n",
        "    burung.bersuara()\n",
        "\n",
        "    if isinstance(burung, Elang):\n",
        "      print(\"-> ini adalah burung Elang.\")\n",
        "      burung.berburu()\n",
        "    elif isinstance(burung, Pipit):\n",
        "      print(\"-> ini adalah burung Pipit.\")\n",
        "      burung.membangun_sarang()\n",
        "    else:\n",
        "      print(\"-> Objek ini bukan termasuk jenis Burung.\")\n",
        "    print(\"-\"*25)\n",
        "\n",
        "#Kode Utama\n",
        "if __name__ == \"__main__\":\n",
        "  elang_sumatra = Elang(\"Elang Sumatra\", 1.8)\n",
        "  pipit_rumah = Pipit(\"Pipit Rumah\", \"Abu-abu\")\n",
        "  merak = Burung (\"Merak\")\n",
        "  kucing_tetangga = \"Meong\"\n",
        "\n",
        "  koleksi_makhluk = [elang_sumatra, pipit_rumah, merak, kucing_tetangga]\n",
        "  for makhluk in koleksi_makhluk:\n",
        "    interaksi_dengan_burung(makhluk)"
      ],
      "metadata": {
        "colab": {
          "base_uri": "https://localhost:8080/"
        },
        "id": "j_gws3aZuqLw",
        "outputId": "90770ecc-1817-44de-8a83-4dffba447b23"
      },
      "execution_count": null,
      "outputs": [
        {
          "output_type": "stream",
          "name": "stdout",
          "text": [
            "\n",
            " ---Berinteraksi dengan type: Elang Sumatra--- \n",
            "Elang Sumatra terbang tinggi melayang di angkasa\n",
            "Elang Sumatra berteriak nyaring!\n",
            "-> ini adalah burung Elang.\n",
            "Elang Sumatra sedang mencari mangsa dari ketinggian.\n",
            "-------------------------\n",
            "\n",
            " ---Berinteraksi dengan type: Pipit Rumah--- \n",
            "Pipit Rumah terbang cepat di antara perpohonan\n",
            "Pipit Rumah berkicau merdu: cit cit!\n",
            "-> ini adalah burung Pipit.\n",
            "Pipit Rumahsedang mengumpulkan ranting untuk sarang.\n",
            "-------------------------\n",
            "\n",
            " ---Berinteraksi dengan type: Merak--- \n",
            "Merak terbang dengan cara umum\n",
            "Merak mengeluarkan suara burung\n",
            "-> Objek ini bukan termasuk jenis Burung.\n",
            "-------------------------\n",
            "\n",
            " ---Berinteraksi dengan type: Objek tidak dikenal--- \n"
          ]
        }
      ]
    },
    {
      "cell_type": "markdown",
      "source": [
        "# Tugas"
      ],
      "metadata": {
        "id": "hl04w-6AJKHt"
      }
    },
    {
      "cell_type": "code",
      "source": [
        "class Komputer:\n",
        "    def __init__(self, merk, processor, ram_gb):\n",
        "        self.merk = merk\n",
        "        self.processor = processor\n",
        "        self.ram_gb = ram_gb\n",
        "\n",
        "    def info_spesifikasi(self):\n",
        "        print(f\"Merk: {self.merk}\")\n",
        "        print(f\"Processor: {self.processor}\")\n",
        "        print(f\"RAM: {self.ram_gb} GB\")\n",
        "\n",
        "    def jalankan_aplikasi(self, nama_aplikasi):\n",
        "        print(f\"{self.merk} sedang menjalankan aplikasi: {nama_aplikasi}\")\n",
        "\n",
        "    def upgrade_ram(self, tambahan_gb, tipe_ram=\"DDR4\"):\n",
        "        self.ram_gb += tambahan_gb\n",
        "        print(f\"RAM {self.merk} diupgrade sebesar {tambahan_gb} GB (Tipe: {tipe_ram}).\")\n",
        "        print(f\"Total RAM sekarang: {self.ram_gb} GB\")\n",
        "\n",
        "class Laptop(Komputer):\n",
        "    def __init__(self, merk, processor, ram_gb, ukuran_layar_inch, berat_kg):\n",
        "        super().__init__(merk, processor, ram_gb)\n",
        "        self.ukuran_layar_inch = ukuran_layar_inch\n",
        "        self.berat_kg = berat_kg\n",
        "\n",
        "    def info_spesifikasi(self):\n",
        "        super().info_spesifikasi()\n",
        "        print(f\"Ukuran Layar: {self.ukuran_layar_inch} inch\")\n",
        "        print(f\"Berat: {self.berat_kg} kg\")\n",
        "\n",
        "\n",
        "class Desktop(Komputer):\n",
        "    def __init__(self, merk, processor, ram_gb, jenis_casing, monitor_external):\n",
        "        super().__init__(merk, processor, ram_gb)\n",
        "        self.jenis_casing = jenis_casing\n",
        "        self.monitor_external = monitor_external\n",
        "\n",
        "    def info_spesifikasi(self):\n",
        "        super().info_spesifikasi()\n",
        "        print(f\"Jenis Casing: {self.jenis_casing}\")\n",
        "        print(f\"Monitor External: {self.monitor_external}\")\n",
        "\n",
        "\n",
        "def cetak_semua_spesifikasi(daftar_komputer):\n",
        "    print(\"Daftar Spesifikasi Semua Komputer:\")\n",
        "    for komputer in daftar_komputer:\n",
        "        print(f\"\\n-- Spesifikasi untuk {komputer.merk} --\")\n",
        "        komputer.info_spesifikasi()\n",
        "        print(\"-\" * 30)\n",
        "\n",
        "\n",
        "if __name__ == \"__main__\":\n",
        "    # Create objects\n",
        "    ROG = Laptop(\"ROG\", \"Ryzen 9800x3d\", 128, 17.2, 3.4)\n",
        "    Gigabyte = Desktop(\"Gigabyte ultra\", \"Core ultra 7 265k\", 128, \"ITX\", \"Yes\")\n",
        "    Macbook = Laptop(\"Macbook Pro\", \"M3 Max\", 64, 16.2, 2.1)\n",
        "    Alienware = Desktop(\"Alienware Aurora\", \"i9-13900K\", 64, \"Full Tower\", \"No\")\n",
        "\n",
        "    # Create list of computers\n",
        "    daftar_komputer = [ROG, Gigabyte, Macbook, Alienware]\n",
        "\n",
        "    # Demonstrate polymorphism\n",
        "    cetak_semua_spesifikasi(daftar_komputer)\n",
        "\n",
        "    # Demonstrate overloading - Option A (Default Argument)\n",
        "    print(\"\\nUpgrade RAM Macbook:\")\n",
        "    Macbook.upgrade_ram(32)  # Without tipe_ram argument\n",
        "    print(\"\\nUpgrade RAM Alienware:\")\n",
        "    Alienware.upgrade_ram(64, \"DDR5\")  # With tipe_ram argument"
      ],
      "metadata": {
        "id": "QcbdlrXbJRFW",
        "outputId": "cf8f7dad-69dd-4805-b0f3-d1dfec0f2159",
        "colab": {
          "base_uri": "https://localhost:8080/"
        }
      },
      "execution_count": null,
      "outputs": [
        {
          "output_type": "stream",
          "name": "stdout",
          "text": [
            "Daftar Spesifikasi Semua Komputer:\n",
            "\n",
            "-- Spesifikasi untuk ROG --\n",
            "Merk: ROG\n",
            "Processor: Ryzen 9800x3d\n",
            "RAM: 128 GB\n",
            "Ukuran Layar: 17.2 inch\n",
            "Berat: 3.4 kg\n",
            "------------------------------\n",
            "\n",
            "-- Spesifikasi untuk Gigabyte ultra --\n",
            "Merk: Gigabyte ultra\n",
            "Processor: Core ultra 7 265k\n",
            "RAM: 128 GB\n",
            "Jenis Casing: ITX\n",
            "Monitor External: Yes\n",
            "------------------------------\n",
            "\n",
            "-- Spesifikasi untuk Macbook Pro --\n",
            "Merk: Macbook Pro\n",
            "Processor: M3 Max\n",
            "RAM: 64 GB\n",
            "Ukuran Layar: 16.2 inch\n",
            "Berat: 2.1 kg\n",
            "------------------------------\n",
            "\n",
            "-- Spesifikasi untuk Alienware Aurora --\n",
            "Merk: Alienware Aurora\n",
            "Processor: i9-13900K\n",
            "RAM: 64 GB\n",
            "Jenis Casing: Full Tower\n",
            "Monitor External: No\n",
            "------------------------------\n",
            "\n",
            "Upgrade RAM Macbook:\n",
            "RAM Macbook Pro diupgrade sebesar 32 GB (Tipe: DDR4).\n",
            "Total RAM sekarang: 96 GB\n",
            "\n",
            "Upgrade RAM Alienware:\n",
            "RAM Alienware Aurora diupgrade sebesar 64 GB (Tipe: DDR5).\n",
            "Total RAM sekarang: 128 GB\n"
          ]
        }
      ]
    },
    {
      "cell_type": "code",
      "source": [
        "+-------------------+       +-------------------+\n",
        "|     Komputer      |       |      Laptop       |\n",
        "+-------------------+       +-------------------+\n",
        "| - merk: String    |       | - ukuran_layar..  |\n",
        "| - processor: String| <|-- | - berat_kg: Float |\n",
        "| - ram_gb: Integer |       +-------------------+\n",
        "+-------------------+       | + info_spesifikasi|\n",
        "| + info_spesifikasi|       |      {override}   |\n",
        "| + jalankan_aplikasi|       +-------------------+\n",
        "| + upgrade_ram()   |\n",
        "+-------------------+\n",
        "       ^\n",
        "       |\n",
        "       |\n",
        "+-------------------+\n",
        "|     Desktop       |\n",
        "+-------------------+\n",
        "| - jenis_casing    |\n",
        "| - monitor_external|\n",
        "+-------------------+\n",
        "| + info_spesifikasi|\n",
        "|      {override}   |\n",
        "+-------------------+"
      ],
      "metadata": {
        "id": "7SlqWyP6VWZg"
      },
      "execution_count": null,
      "outputs": []
    }
  ]
}