{
  "nbformat": 4,
  "nbformat_minor": 0,
  "metadata": {
    "colab": {
      "provenance": [],
      "authorship_tag": "ABX9TyMumE0GvkhGQOcdjyPUkFzk",
      "include_colab_link": true
    },
    "kernelspec": {
      "name": "python3",
      "display_name": "Python 3"
    },
    "language_info": {
      "name": "python"
    }
  },
  "cells": [
    {
      "cell_type": "markdown",
      "metadata": {
        "id": "view-in-github",
        "colab_type": "text"
      },
      "source": [
        "<a href=\"https://colab.research.google.com/github/va11h411a/Trying_Python_PBO_2/blob/main/Jobsheet_3.ipynb\" target=\"_parent\"><img src=\"https://colab.research.google.com/assets/colab-badge.svg\" alt=\"Open In Colab\"/></a>"
      ]
    },
    {
      "cell_type": "code",
      "execution_count": 9,
      "metadata": {
        "id": "Cofn4QEiligR",
        "outputId": "d48d16d5-1235-4c06-d25f-58d9d81a0c89",
        "colab": {
          "base_uri": "https://localhost:8080/",
          "height": 332
        }
      },
      "outputs": [
        {
          "output_type": "stream",
          "name": "stdout",
          "text": [
            "500 telah ditambahkan ke akun Alice.\n",
            "Jumlah deposit harus lebih dari 0.\n",
            "300 telah ditarik dari akun Alice.\n",
            "Saldo tidak mencukupi.\n",
            "500 telah ditambahkan ke akun Alice.\n",
            "100 telah ditambahkan ke akun Alice.\n",
            "300 telah ditarik dari akun Alice.\n",
            "600 telah ditarik dari akun Alice.\n",
            "Saldo terakhir di akun Alice:700\n"
          ]
        },
        {
          "output_type": "error",
          "ename": "AttributeError",
          "evalue": "'BankAccount' object has no attribute '__balance'",
          "traceback": [
            "\u001b[0;31m---------------------------------------------------------------------------\u001b[0m",
            "\u001b[0;31mAttributeError\u001b[0m                            Traceback (most recent call last)",
            "\u001b[0;32m<ipython-input-9-d91f14dacb6e>\u001b[0m in \u001b[0;36m<cell line: 0>\u001b[0;34m()\u001b[0m\n\u001b[1;32m     79\u001b[0m \u001b[0;34m\u001b[0m\u001b[0m\n\u001b[1;32m     80\u001b[0m   \u001b[0;31m#mencoba error private atribute\u001b[0m\u001b[0;34m\u001b[0m\u001b[0;34m\u001b[0m\u001b[0m\n\u001b[0;32m---> 81\u001b[0;31m   \u001b[0malice_account\u001b[0m\u001b[0;34m.\u001b[0m\u001b[0m__balance\u001b[0m\u001b[0;34m\u001b[0m\u001b[0;34m\u001b[0m\u001b[0m\n\u001b[0m",
            "\u001b[0;31mAttributeError\u001b[0m: 'BankAccount' object has no attribute '__balance'"
          ]
        }
      ],
      "source": [
        "class BankAccount:\n",
        "  def __init__(self, owner, balance):\n",
        "    self.__owner = owner\n",
        "    self.__balance = balance\n",
        "\n",
        "  def deposit(self, amount):\n",
        "    \"\"\"Method untuk menambahkan saldo.\"\"\"\n",
        "    if amount > 0:\n",
        "      self.__balance += amount\n",
        "      print(f\"{amount} telah ditambahkan ke akun {self.__owner}.\")\n",
        "    else:\n",
        "      print(\"Jumlah deposit harus lebih dari 0.\")\n",
        "\n",
        "  def withdraw(self, amount):  # Changed Withdraw to withdraw\n",
        "    \"\"\"Method untuk menarik saldo.\"\"\"\n",
        "    if amount <= self.__balance:\n",
        "      self.__balance -= amount\n",
        "      print(f\"{amount} telah ditarik dari akun {self.__owner}.\")\n",
        "    else:\n",
        "      print(\"Saldo tidak mencukupi.\")\n",
        "\n",
        "  def get_balance(self):  # Corrected indentation\n",
        "    \"\"\"Method untuk mendapatkan saldo.\"\"\"\n",
        "    return self.__balance\n",
        "\n",
        "if __name__ == \"__main__\":\n",
        "  # membuat akun\n",
        "  alice_account = BankAccount(owner=\"Alice\", balance=1000)\n",
        "\n",
        "  # Deposit\n",
        "  alice_account.deposit(500)\n",
        "  alice_account.deposit(-100)\n",
        "\n",
        "  # Withdraw\n",
        "  alice_account.withdraw(300)  # Changed to withdraw\n",
        "  alice_account.withdraw(1600)  # Changed to withdraw\n",
        "\n",
        "class BankAccount:\n",
        "  def __init__(self, owner, balance):\n",
        "    self.__owner = owner\n",
        "    self.__balance = balance\n",
        "\n",
        "  def deposit (self, amount):\n",
        "    \"\"\"Method untuk menambahkan saldo.\"\"\"\n",
        "    if amount >0:\n",
        "      self.__balance += amount\n",
        "      print(f\"{amount} telah ditambahkan ke akun {self.__owner}.\")\n",
        "    else:\n",
        "      print(\"Jumlah deposit harus lebih dari 0.\")\n",
        "\n",
        "  def Withdraw (self, amount):\n",
        "    \"\"\"Method untuk menarik saldo.\"\"\"\n",
        "    if amount <= self.__balance:\n",
        "      self.__balance -= amount\n",
        "      print(f\"{amount} telah ditarik dari akun {self.__owner}.\")\n",
        "    else:\n",
        "      print(\"Saldo tidak mencukupi.\")\n",
        "\n",
        "  def get_balance (self):\n",
        "    \"\"\"Method untuk mendapatkan saldo.\"\"\"\n",
        "    return self.__balance\n",
        "\n",
        "if __name__ == \"__main__\":\n",
        "  #membuat akun\n",
        "\n",
        "  alice_account = BankAccount(owner=\"Alice\", balance=1000)\n",
        "\n",
        "  #Deposit\n",
        "  alice_account.deposit(500)\n",
        "  alice_account.deposit(100)\n",
        "\n",
        "  #Withdraw\n",
        "  alice_account.Withdraw(300)\n",
        "  alice_account.Withdraw(600)\n",
        "\n",
        "  #Mendapatkan Saldo\n",
        "  current_balance = alice_account.get_balance()\n",
        "  print(f\"Saldo terakhir di akun {alice_account._BankAccount__owner}:{current_balance}\")\n",
        "\n",
        "  #mencoba error private atribute\n",
        "  alice_account.__balance"
      ]
    },
    {
      "cell_type": "code",
      "source": [],
      "metadata": {
        "id": "XYckGsrbuesp"
      },
      "execution_count": null,
      "outputs": []
    }
  ]
}